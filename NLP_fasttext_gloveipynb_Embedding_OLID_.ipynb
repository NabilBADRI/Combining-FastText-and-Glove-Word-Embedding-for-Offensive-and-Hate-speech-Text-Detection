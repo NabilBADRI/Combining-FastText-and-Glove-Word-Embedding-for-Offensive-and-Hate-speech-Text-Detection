{
  "nbformat": 4,
  "nbformat_minor": 0,
  "metadata": {
    "colab": {
      "name": "NLP_fasttext_gloveipynb_Embedding_OLID_.ipynb",
      "provenance": [],
      "collapsed_sections": []
    },
    "kernelspec": {
      "name": "python3",
      "display_name": "Python 3"
    },
    "accelerator": "GPU"
  },
  "cells": [
    {
      "cell_type": "code",
      "metadata": {
        "id": "6pkvGyUqqCMG",
        "colab": {
          "base_uri": "https://localhost:8080/"
        },
        "outputId": "e5be357d-1b09-4a58-c480-345225b9908b"
      },
      "source": [
        "from google.colab import drive\n",
        "drive.mount('/content/drive')"
      ],
      "execution_count": null,
      "outputs": [
        {
          "output_type": "stream",
          "text": [
            "Mounted at /content/drive\n"
          ],
          "name": "stdout"
        }
      ]
    },
    {
      "cell_type": "code",
      "metadata": {
        "id": "fnOwTGAXpLvI",
        "colab": {
          "base_uri": "https://localhost:8080/"
        },
        "outputId": "e4c70b5d-042b-4434-e764-d50784e849ba"
      },
      "source": [
        "from tensorflow import keras\n",
        "import numpy as np\n",
        "import re\n",
        "import nltk\n",
        "from nltk.corpus import stopwords\n",
        "import string\n",
        "import pandas as pd\n",
        "from nltk.stem import WordNetLemmatizer\n",
        "from nltk.corpus import stopwords\n",
        "nltk.download('stopwords')\n",
        "nltk.download('wordnet')"
      ],
      "execution_count": null,
      "outputs": [
        {
          "output_type": "stream",
          "text": [
            "[nltk_data] Downloading package stopwords to /root/nltk_data...\n",
            "[nltk_data]   Package stopwords is already up-to-date!\n",
            "[nltk_data] Downloading package wordnet to /root/nltk_data...\n",
            "[nltk_data]   Package wordnet is already up-to-date!\n"
          ],
          "name": "stdout"
        },
        {
          "output_type": "execute_result",
          "data": {
            "text/plain": [
              "True"
            ]
          },
          "metadata": {
            "tags": []
          },
          "execution_count": 14
        }
      ]
    },
    {
      "cell_type": "code",
      "metadata": {
        "id": "qpYZxDnjpo32"
      },
      "source": [
        "train=pd.read_csv( '/content/drive/MyDrive/kaggle-nabil-badri/olid-training-v1.0.tsv',sep=\"\\t\")\n",
        "test=pd.read_csv('/content/drive/MyDrive/kaggle-nabil-badri/testset-levela.tsv',sep=\"\\t\")\n",
        "y_test=pd.read_csv( '/content/drive/MyDrive/kaggle-nabil-badri/labels-levela.csv',header=None).iloc[:,-1]\n",
        "#OFF=0 \n",
        "#NOT=1"
      ],
      "execution_count": null,
      "outputs": []
    },
    {
      "cell_type": "code",
      "metadata": {
        "id": "reTRftvWpUJk",
        "colab": {
          "base_uri": "https://localhost:8080/"
        },
        "outputId": "9ca0a64d-0728-4a16-f445-ba5c752353bb"
      },
      "source": [
        "y_train=train['subtask_a']\n",
        "train=train['tweet']\n",
        "test=test['tweet']\n",
        "y_train=pd.factorize(y_train)[0]\n",
        "y_test=pd.factorize(y_test)[0]\n",
        "\n",
        "import collections\n",
        "collections.Counter(y_train)\n",
        "\n",
        "#Counter({0: 4400, 1: 8840})"
      ],
      "execution_count": null,
      "outputs": [
        {
          "output_type": "execute_result",
          "data": {
            "text/plain": [
              "Counter({0: 4400, 1: 8840})"
            ]
          },
          "metadata": {
            "tags": []
          },
          "execution_count": 16
        }
      ]
    },
    {
      "cell_type": "code",
      "metadata": {
        "id": "qMwojEJFiiBY",
        "colab": {
          "base_uri": "https://localhost:8080/",
          "height": 53
        },
        "outputId": "ff606aa3-e403-47db-e6a2-7c3f37b7950a"
      },
      "source": [
        "x=train[323].lower().replace('@user','').replace('url','')\n",
        "x=re.sub('[^A-Za-z]', ' ', x)\n",
        "re.sub('http[s]?://(?:[a-zA-Z]|[0-9]|[$-_@.&+]|'\n",
        "        '[!*\\(\\),]|(?:%[0-9a-fA-F][0-9a-fA-F]))+','',x)"
      ],
      "execution_count": null,
      "outputs": [
        {
          "output_type": "execute_result",
          "data": {
            "application/vnd.google.colaboratory.intrinsic+json": {
              "type": "string"
            },
            "text/plain": [
              "'   you are grossly misinterpreting who is against this  people across all parties condemn this action  look no further than bill davis and brian mulroney to see that even conservatives think this is a horrible decision '"
            ]
          },
          "metadata": {
            "tags": []
          },
          "execution_count": 17
        }
      ]
    },
    {
      "cell_type": "code",
      "metadata": {
        "id": "0KkTgzF_q4s1"
      },
      "source": [
        "# Creating the training corpus\n",
        "stop_words = set(stopwords.words(\"english\")) \n",
        "lemmatizer = WordNetLemmatizer()\n",
        "corpus_train = []\n",
        "for i in train:\n",
        "    x=i.lower()\n",
        "    x=x.replace('@user','')\n",
        "    x=x.replace('@[\\w\\-]+','')\n",
        "    #x=x.translate(str.maketrans('', '', string.punctuation))\n",
        "    x = re.sub('[^A-Za-z]', ' ', x)\n",
        "    #x=re.sub('\\s+',' ',x)\n",
        "    x=re.sub('http[s]?://(?:[a-zA-Z]|[0-9]|[$-_@.&+]|'\n",
        "        '[!*\\(\\),]|(?:%[0-9a-fA-F][0-9a-fA-F]))+','',x) #url\n",
        "    #x = [lemmatizer.lemmatize(token) for token in x.split(\" \")]\n",
        "    #x = [word for word in x if not word in stop_words]\n",
        "    #x=\" \".join(x)\n",
        "    corpus_train.append(x)    \n",
        "# Creating the training corpus\n",
        "corpus_test = []\n",
        "for i in test:\n",
        "    x=i.lower()\n",
        "    x=x.replace('@user','')\n",
        "    x=x.replace('@[\\w\\-]+','')\n",
        "    #x=x.translate(str.maketrans('', '', string.punctuation))\n",
        "    x = re.sub('[^A-Za-z]', ' ', x)\n",
        "    #x=re.sub('\\s+',' ',x)\n",
        "    x=re.sub('http[s]?://(?:[a-zA-Z]|[0-9]|[$-_@.&+]|'\n",
        "        '[!*\\(\\),]|(?:%[0-9a-fA-F][0-9a-fA-F]))+','',x) #url\n",
        "    #x = [lemmatizer.lemmatize(token) for token in x.split(\" \")]\n",
        "    #x = [word for word in x if not word in stop_words]\n",
        "    #x=\" \".join(x)\n",
        "    corpus_test.append(x) "
      ],
      "execution_count": null,
      "outputs": []
    },
    {
      "cell_type": "code",
      "metadata": {
        "id": "HLASZNDSiYgV",
        "colab": {
          "base_uri": "https://localhost:8080/",
          "height": 35
        },
        "outputId": "d761a2f6-98e4-40e0-e493-cf0af9b6ca03"
      },
      "source": [
        "corpus_train[0]"
      ],
      "execution_count": null,
      "outputs": [
        {
          "output_type": "execute_result",
          "data": {
            "application/vnd.google.colaboratory.intrinsic+json": {
              "type": "string"
            },
            "text/plain": [
              "' she should ask a few native americans what their take on this is '"
            ]
          },
          "metadata": {
            "tags": []
          },
          "execution_count": 19
        }
      ]
    },
    {
      "cell_type": "code",
      "metadata": {
        "id": "GyyHvozBq7kf"
      },
      "source": [
        "from keras.preprocessing.text import Tokenizer\n",
        "from keras.preprocessing import sequence\n",
        "max_words = 5000 #frequency of words to be kept\n",
        "max_len = 200\n",
        "\n",
        "tokenize = Tokenizer(num_words=max_words)\n",
        "tokenize.fit_on_texts(corpus_train)\n",
        "sequences = tokenize.texts_to_sequences(corpus_train)\n",
        "word_index = tokenize.word_index\n",
        "sequences_matrix = sequence.pad_sequences(sequences,maxlen=max_len)"
      ],
      "execution_count": null,
      "outputs": []
    },
    {
      "cell_type": "code",
      "metadata": {
        "id": "sYN-06rwkCyJ",
        "colab": {
          "base_uri": "https://localhost:8080/"
        },
        "outputId": "7d43184e-7292-4152-afb6-fa8237f25585"
      },
      "source": [
        "num_words = min(max_words, len(word_index)) + 1\n",
        "print(num_words)"
      ],
      "execution_count": null,
      "outputs": [
        {
          "output_type": "stream",
          "text": [
            "5001\n"
          ],
          "name": "stdout"
        }
      ]
    },
    {
      "cell_type": "code",
      "metadata": {
        "colab": {
          "base_uri": "https://localhost:8080/"
        },
        "id": "vNP3UOz1djK_",
        "outputId": "e48b8935-1efe-4535-c3b5-f8dd9196cb18"
      },
      "source": [
        "!unzip /content/drive/MyDrive/kaggle-nabil-badri/wikinews300d1mvec.zip"
      ],
      "execution_count": null,
      "outputs": [
        {
          "output_type": "stream",
          "text": [
            "Archive:  /content/drive/MyDrive/kaggle-nabil-badri/wikinews300d1mvec.zip\n",
            "  inflating: wiki-news-300d-1M.vec   \n"
          ],
          "name": "stdout"
        }
      ]
    },
    {
      "cell_type": "code",
      "metadata": {
        "id": "vlMA1Qwfg0EA"
      },
      "source": [
        "embedding_path1 = \"/content/wiki-news-300d-1M.vec\"\n",
        "embedding_path2 = \"/content/drive/MyDrive/kaggle-nabil-badri/glove.840B.300d.txt\"\n",
        "embed_size = 300"
      ],
      "execution_count": null,
      "outputs": []
    },
    {
      "cell_type": "code",
      "metadata": {
        "id": "TyxVJQ45rSW3"
      },
      "source": [
        "def get_coefs(word,*arr):\n",
        "    return word, np.asarray(arr, dtype='float32')\n",
        "\n",
        "def build_matrix(embedding_path, word_index):\n",
        "    embedding_index = dict(get_coefs(*o.strip().split(\" \")) for o in open(embedding_path))\n",
        "\n",
        "    nb_words = min(max_words, len(word_index))\n",
        "    embedding_matrix = np.zeros((nb_words + 1, embed_size))\n",
        "    for word, i in word_index.items():\n",
        "        if i >= max_words:\n",
        "            continue\n",
        "        embedding_vector = embedding_index.get(word)\n",
        "        if embedding_vector is not None:\n",
        "            embedding_matrix[i] = embedding_vector\n",
        "    return embedding_matrix\n"
      ],
      "execution_count": null,
      "outputs": []
    },
    {
      "cell_type": "code",
      "metadata": {
        "id": "zYUKY8LXkIoK"
      },
      "source": [
        "fasttext=build_matrix(embedding_path1, word_index)\n",
        "glove_emb=build_matrix(embedding_path2, word_index)"
      ],
      "execution_count": null,
      "outputs": []
    },
    {
      "cell_type": "code",
      "metadata": {
        "colab": {
          "base_uri": "https://localhost:8080/"
        },
        "id": "ujFHFjvZgbri",
        "outputId": "0c16b98f-38ed-4fb3-be47-ae3ba39cf875"
      },
      "source": [
        "fasttext.shape"
      ],
      "execution_count": null,
      "outputs": [
        {
          "output_type": "execute_result",
          "data": {
            "text/plain": [
              "(5001, 300)"
            ]
          },
          "metadata": {
            "tags": []
          },
          "execution_count": 33
        }
      ]
    },
    {
      "cell_type": "markdown",
      "metadata": {
        "id": "uiArU6WLwghI"
      },
      "source": [
        "ccombinaison des deux embedding\n"
      ]
    },
    {
      "cell_type": "code",
      "metadata": {
        "id": "v7uZ-HJ4ln2_",
        "colab": {
          "base_uri": "https://localhost:8080/"
        },
        "outputId": "39849443-0949-4804-8280-3438c0e97163"
      },
      "source": [
        "embedding_matrix=np.mean((fasttext,glove_emb),axis=0)\n",
        "embedding_matrix.shape"
      ],
      "execution_count": null,
      "outputs": [
        {
          "output_type": "execute_result",
          "data": {
            "text/plain": [
              "(5001, 300)"
            ]
          },
          "metadata": {
            "tags": []
          },
          "execution_count": 32
        }
      ]
    },
    {
      "cell_type": "code",
      "metadata": {
        "id": "dLnt7QKJ8WzH"
      },
      "source": [
        "test_sequences = tokenize.texts_to_sequences(corpus_test)\n",
        "test_sequences_matrix = sequence.pad_sequences(test_sequences,maxlen=max_len)"
      ],
      "execution_count": null,
      "outputs": []
    },
    {
      "cell_type": "code",
      "metadata": {
        "id": "EVwNl2COnOTt"
      },
      "source": [
        "from keras import backend as K\n",
        "def f1(y_true, y_pred):\n",
        "    \n",
        "    def recall(y_true, y_pred):\n",
        "        \"\"\"Recall metric.\n",
        "\n",
        "        Only computes a batch-wise average of recall.\n",
        "\n",
        "        Computes the recall, a metric for multi-label classification of\n",
        "        how many relevant items are selected.\n",
        "        \"\"\"\n",
        "        true_positives = K.sum(K.round(K.clip(y_true * y_pred, 0, 1)))\n",
        "        possible_positives = K.sum(K.round(K.clip(y_true, 0, 1)))\n",
        "        recall = true_positives / (possible_positives + K.epsilon())\n",
        "        return recall\n",
        "\n",
        "    def precision(y_true, y_pred):\n",
        "        \"\"\"Precision metric.\n",
        "\n",
        "        Only computes a batch-wise average of precision.\n",
        "\n",
        "        Computes the precision, a metric for multi-label classification of\n",
        "        how many selected items are relevant.\n",
        "        \"\"\"\n",
        "        true_positives = K.sum(K.round(K.clip(y_true * y_pred, 0, 1)))\n",
        "        predicted_positives = K.sum(K.round(K.clip(y_pred, 0, 1)))\n",
        "        precision = true_positives / (predicted_positives + K.epsilon())\n",
        "        return precision\n",
        "    precision = precision(y_true, y_pred)\n",
        "    recall = recall(y_true, y_pred)\n",
        "    return 2*((precision*recall)/(precision+recall+K.epsilon()))"
      ],
      "execution_count": null,
      "outputs": []
    },
    {
      "cell_type": "code",
      "metadata": {
        "id": "9QwiUz7VFJPz"
      },
      "source": [
        "callbacks = keras.callbacks.EarlyStopping(monitor='val_f1', mode='max', verbose=1,\n",
        "                                          patience=8,restore_best_weights = True)"
      ],
      "execution_count": null,
      "outputs": []
    },
    {
      "cell_type": "code",
      "metadata": {
        "id": "HkMkKWsJrzeN"
      },
      "source": [
        "from keras.models import Sequential,Model\n",
        "from tensorflow.compat.v1.keras.layers import CuDNNGRU\n",
        "from keras.layers import Embedding,Dense,GRU\n",
        "from keras.layers import Dropout,Bidirectional,GlobalMaxPool1D,GlobalAveragePooling1D\n",
        "from keras.layers import SpatialDropout1D,concatenate,Input\n",
        "from keras.optimizers import RMSprop\n",
        "from keras.initializers import Constant\n",
        "from sklearn.utils import class_weight\n",
        "from keras.callbacks import ModelCheckpoint\n",
        "import tensorflow as tf\n",
        "#tf.logging.set_verbosity(tf.logging.ERROR)"
      ],
      "execution_count": null,
      "outputs": []
    },
    {
      "cell_type": "code",
      "metadata": {
        "id": "Il9FI8EkTTBh"
      },
      "source": [
        "from sklearn.metrics import classification_report\n",
        "from sklearn.metrics import confusion_matrix, f1_score, precision_score, recall_score\n",
        "import matplotlib.pyplot as plt\n",
        "import seaborn as sns"
      ],
      "execution_count": null,
      "outputs": []
    },
    {
      "cell_type": "code",
      "metadata": {
        "id": "fL-leK_jTorh"
      },
      "source": [
        "class_weights = class_weight.compute_class_weight('balanced',np.unique(y_train),y_train)\n",
        "class_weights=dict(enumerate(class_weights))"
      ],
      "execution_count": null,
      "outputs": []
    },
    {
      "cell_type": "markdown",
      "metadata": {
        "id": "StHob8uHVS2A"
      },
      "source": [
        "# BIGRUs Model"
      ]
    },
    {
      "cell_type": "markdown",
      "metadata": {
        "id": "ZwFFlBGFR2tv"
      },
      "source": [
        "### Training a model with GloVe and Fasttext embedding"
      ]
    },
    {
      "cell_type": "code",
      "metadata": {
        "id": "EIRQc1aLRhHg"
      },
      "source": [
        "inp=Input(max_len)\n",
        "#Embedding Layer \n",
        "x=Embedding(num_words,embed_size,embeddings_initializer=Constant(embedding_matrix),\n",
        "            input_length=max_len,trainable=False)(inp)\n",
        "x = SpatialDropout1D(0.2)(x)\n",
        "#GRU Bidrirectionnel\n",
        "x=Bidirectional(GRU(150, return_sequences = True))(x)\n",
        "avg_pool = GlobalAveragePooling1D()(x)\n",
        "max_pool = GlobalMaxPool1D()(x)\n",
        "conc = concatenate([avg_pool, max_pool])\n",
        "\n",
        " \n",
        "x=Dropout(0.1)(conc)\n",
        "out=Dense(64, activation=\"relu\")(x)\n",
        "out=Dense(32, activation=\"relu\")(x)\n",
        "\n",
        "out=Dense(1, activation=\"sigmoid\")(x)\n",
        "\n",
        "model=Model(inp,out)\n",
        "\n",
        "mcp_save = ModelCheckpoint('/content/sample_data/model.mdl_wts.hdf5', save_best_only=True,\n",
        "                           monitor='val_loss', mode='min',patience = 5)\n",
        "\n"
      ],
      "execution_count": null,
      "outputs": []
    },
    {
      "cell_type": "code",
      "metadata": {
        "id": "hCVvlC7ARlLY"
      },
      "source": [
        "model.compile(loss='binary_crossentropy', optimizer='adam', metrics=[f1])"
      ],
      "execution_count": null,
      "outputs": []
    },
    {
      "cell_type": "code",
      "metadata": {
        "id": "LBDAzDdwRpeJ",
        "colab": {
          "base_uri": "https://localhost:8080/"
        },
        "outputId": "ec5a7512-f544-4ff7-874d-31ff6794047d"
      },
      "source": [
        "model.summary()"
      ],
      "execution_count": null,
      "outputs": [
        {
          "output_type": "stream",
          "text": [
            "Model: \"model_2\"\n",
            "__________________________________________________________________________________________________\n",
            "Layer (type)                    Output Shape         Param #     Connected to                     \n",
            "==================================================================================================\n",
            "input_3 (InputLayer)            [(None, 200)]        0                                            \n",
            "__________________________________________________________________________________________________\n",
            "embedding_2 (Embedding)         (None, 200, 300)     1500300     input_3[0][0]                    \n",
            "__________________________________________________________________________________________________\n",
            "spatial_dropout1d_2 (SpatialDro (None, 200, 300)     0           embedding_2[0][0]                \n",
            "__________________________________________________________________________________________________\n",
            "bidirectional_2 (Bidirectional) (None, 200, 300)     406800      spatial_dropout1d_2[0][0]        \n",
            "__________________________________________________________________________________________________\n",
            "global_average_pooling1d_2 (Glo (None, 300)          0           bidirectional_2[0][0]            \n",
            "__________________________________________________________________________________________________\n",
            "global_max_pooling1d_2 (GlobalM (None, 300)          0           bidirectional_2[0][0]            \n",
            "__________________________________________________________________________________________________\n",
            "concatenate_2 (Concatenate)     (None, 600)          0           global_average_pooling1d_2[0][0] \n",
            "                                                                 global_max_pooling1d_2[0][0]     \n",
            "__________________________________________________________________________________________________\n",
            "dropout_2 (Dropout)             (None, 600)          0           concatenate_2[0][0]              \n",
            "__________________________________________________________________________________________________\n",
            "dense_8 (Dense)                 (None, 1)            601         dropout_2[0][0]                  \n",
            "==================================================================================================\n",
            "Total params: 1,907,701\n",
            "Trainable params: 407,401\n",
            "Non-trainable params: 1,500,300\n",
            "__________________________________________________________________________________________________\n"
          ],
          "name": "stdout"
        }
      ]
    },
    {
      "cell_type": "code",
      "metadata": {
        "colab": {
          "base_uri": "https://localhost:8080/",
          "height": 704
        },
        "id": "dAjMWY-nmAeL",
        "outputId": "53940dcf-5bc6-46e8-f597-2d758b1f8fe1"
      },
      "source": [
        "tf.keras.utils.plot_model(model, show_shapes=True)"
      ],
      "execution_count": null,
      "outputs": [
        {
          "output_type": "execute_result",
          "data": {
            "image/png": "[encoded data removed]",
            "text/plain": [
              "<IPython.core.display.Image object>"
            ]
          },
          "metadata": {
            "tags": []
          },
          "execution_count": 144
        }
      ]
    },
    {
      "cell_type": "code",
      "metadata": {
        "id": "SFa5d1PhR__j",
        "colab": {
          "base_uri": "https://localhost:8080/"
        },
        "outputId": "11d19c59-7d27-43ac-ce60-535c8d099112"
      },
      "source": [
        "model.fit(sequences_matrix,y_train,batch_size=128,epochs=30,verbose=1,class_weight=class_weights,\n",
        "          validation_data=(test_sequences_matrix,y_test),callbacks=[callbacks])"
      ],
      "execution_count": null,
      "outputs": [
        {
          "output_type": "stream",
          "text": [
            "Epoch 1/30\n",
            "104/104 [==============================] - 9s 56ms/step - loss: 0.6256 - f1: 0.6314 - val_loss: 0.4219 - val_f1: 0.8776\n",
            "Epoch 2/30\n",
            "104/104 [==============================] - 5s 50ms/step - loss: 0.5114 - f1: 0.8128 - val_loss: 0.4083 - val_f1: 0.8760\n",
            "Epoch 3/30\n",
            "104/104 [==============================] - 5s 51ms/step - loss: 0.5007 - f1: 0.8205 - val_loss: 0.3879 - val_f1: 0.8829\n",
            "Epoch 4/30\n",
            "104/104 [==============================] - 5s 51ms/step - loss: 0.4823 - f1: 0.8331 - val_loss: 0.4154 - val_f1: 0.8718\n",
            "Epoch 5/30\n",
            "104/104 [==============================] - 5s 51ms/step - loss: 0.4739 - f1: 0.8277 - val_loss: 0.4016 - val_f1: 0.8798\n",
            "Epoch 6/30\n",
            "104/104 [==============================] - 5s 51ms/step - loss: 0.4574 - f1: 0.8367 - val_loss: 0.4205 - val_f1: 0.8632\n",
            "Epoch 7/30\n",
            "104/104 [==============================] - 5s 51ms/step - loss: 0.4452 - f1: 0.8389 - val_loss: 0.3844 - val_f1: 0.8853\n",
            "Epoch 8/30\n",
            "104/104 [==============================] - 5s 51ms/step - loss: 0.4326 - f1: 0.8522 - val_loss: 0.3954 - val_f1: 0.8808\n",
            "Epoch 9/30\n",
            "104/104 [==============================] - 5s 51ms/step - loss: 0.4122 - f1: 0.8578 - val_loss: 0.3871 - val_f1: 0.8819\n",
            "Epoch 10/30\n",
            "104/104 [==============================] - 5s 51ms/step - loss: 0.3875 - f1: 0.8699 - val_loss: 0.3814 - val_f1: 0.8951\n",
            "Epoch 11/30\n",
            "104/104 [==============================] - 5s 51ms/step - loss: 0.3782 - f1: 0.8775 - val_loss: 0.3841 - val_f1: 0.8863\n",
            "Epoch 12/30\n",
            "104/104 [==============================] - 5s 50ms/step - loss: 0.3494 - f1: 0.8890 - val_loss: 0.3893 - val_f1: 0.8844\n",
            "Epoch 13/30\n",
            "104/104 [==============================] - 5s 50ms/step - loss: 0.3334 - f1: 0.8924 - val_loss: 0.3860 - val_f1: 0.8853\n",
            "Epoch 14/30\n",
            "104/104 [==============================] - 5s 50ms/step - loss: 0.3003 - f1: 0.9115 - val_loss: 0.3924 - val_f1: 0.8820\n",
            "Epoch 15/30\n",
            "104/104 [==============================] - 5s 50ms/step - loss: 0.2846 - f1: 0.9135 - val_loss: 0.4097 - val_f1: 0.8778\n",
            "Epoch 16/30\n",
            "104/104 [==============================] - 5s 50ms/step - loss: 0.2655 - f1: 0.9205 - val_loss: 0.4257 - val_f1: 0.8752\n",
            "Epoch 17/30\n",
            "104/104 [==============================] - 5s 51ms/step - loss: 0.2474 - f1: 0.9263 - val_loss: 0.4172 - val_f1: 0.8770\n",
            "Epoch 18/30\n",
            "104/104 [==============================] - 5s 51ms/step - loss: 0.2144 - f1: 0.9425 - val_loss: 0.4548 - val_f1: 0.8592\n",
            "Restoring model weights from the end of the best epoch.\n",
            "Epoch 00018: early stopping\n"
          ],
          "name": "stdout"
        },
        {
          "output_type": "execute_result",
          "data": {
            "text/plain": [
              "<tensorflow.python.keras.callbacks.History at 0x7f5545fa08d0>"
            ]
          },
          "metadata": {
            "tags": []
          },
          "execution_count": 145
        }
      ]
    },
    {
      "cell_type": "code",
      "metadata": {
        "id": "1BD-ntr8rznW",
        "colab": {
          "base_uri": "https://localhost:8080/"
        },
        "outputId": "e65a4621-52ca-4f91-f589-292f44cbfcfd"
      },
      "source": [
        "print(model.evaluate(test_sequences_matrix,y_test))"
      ],
      "execution_count": null,
      "outputs": [
        {
          "output_type": "stream",
          "text": [
            "27/27 [==============================] - 0s 17ms/step - loss: 0.3814 - f1: 0.8936\n",
            "[0.38141271471977234, 0.8935668468475342]\n"
          ],
          "name": "stdout"
        }
      ]
    },
    {
      "cell_type": "code",
      "metadata": {
        "id": "u-fKEe-4rzp4",
        "colab": {
          "base_uri": "https://localhost:8080/"
        },
        "outputId": "57596128-21d4-4ed6-b687-fb5c70e2f94e"
      },
      "source": [
        "y_pred = model.predict(test_sequences_matrix, batch_size=128, verbose=1)\n",
        "y_pred_bool = np.argmax(y_pred, axis=1)\n",
        "y_pred = (y_pred > 0.5)\n",
        "\n",
        "print(classification_report(y_test, y_pred))\n"
      ],
      "execution_count": null,
      "outputs": [
        {
          "output_type": "stream",
          "text": [
            "7/7 [==============================] - 1s 31ms/step\n",
            "              precision    recall  f1-score   support\n",
            "\n",
            "           0       0.77      0.63      0.69       240\n",
            "           1       0.87      0.93      0.90       620\n",
            "\n",
            "    accuracy                           0.84       860\n",
            "   macro avg       0.82      0.78      0.79       860\n",
            "weighted avg       0.84      0.84      0.84       860\n",
            "\n"
          ],
          "name": "stdout"
        }
      ]
    },
    {
      "cell_type": "code",
      "metadata": {
        "id": "4LtnRxVRmNcl",
        "colab": {
          "base_uri": "https://localhost:8080/"
        },
        "outputId": "c45759f4-3b34-48fe-af06-820e7aeb5f43"
      },
      "source": [
        "f1_score(y_test, y_pred, average=\"weighted\")"
      ],
      "execution_count": null,
      "outputs": [
        {
          "output_type": "execute_result",
          "data": {
            "text/plain": [
              "0.8392678491465877"
            ]
          },
          "metadata": {
            "tags": []
          },
          "execution_count": 148
        }
      ]
    },
    {
      "cell_type": "code",
      "metadata": {
        "id": "72QjwwRRrzsu"
      },
      "source": [
        "from tensorflow import keras\n",
        "keras.backend.clear_session()"
      ],
      "execution_count": null,
      "outputs": []
    },
    {
      "cell_type": "code",
      "metadata": {
        "id": "4o9xT3kjyc7W"
      },
      "source": [
        "metric =metrics.accuracy_score(y_test, y_pred), metrics.f1_score(y_test, y_pred, average='macro'), metrics.recall_score(y_test, y_pred), metrics.precision_score(y_test, y_pred)"
      ],
      "execution_count": null,
      "outputs": []
    },
    {
      "cell_type": "code",
      "metadata": {
        "id": "czSMQdvTQZs_",
        "colab": {
          "base_uri": "https://localhost:8080/",
          "height": 225
        },
        "outputId": "e937631b-a8bb-4936-afb6-97ddd5574a06"
      },
      "source": [
        "fig = plt.figure()\n",
        "fig.set_size_inches(8,2)\n",
        "ax = fig.add_axes([0,0,1,1])\n",
        "rect1 = ax.bar(0.00,round(metric[0], 2), color = 'b', width = 0.05)\n",
        "rect2 = ax.bar(0.20, round(metric[1], 2), color = 'g', width = 0.05)\n",
        "rect3 = ax.bar(0.40, round(metric[2], 2) , color = 'r', width = 0.05)\n",
        "rect4 = ax.bar(0.60, round(metric[3], 2) , color = (1, 0, 1), width = 0.05)\n",
        "\n",
        "ax.set_ylabel('Scores')\n",
        "ax.set_title('metrics')\n",
        "def autolabel(rects):\n",
        "  \"\"\"Attach a text label above each bar in *rects*, displaying its height.\"\"\"\n",
        "  for rect in rects:\n",
        "      height = rect.get_height()\n",
        "      ax.annotate('{}'.format(height),\n",
        "                  xy=(rect.get_x() + rect.get_width() / 2, height),\n",
        "                  xytext=(0, 3),  # 3 points vertical offset\n",
        "                  textcoords=\"offset points\",\n",
        "                  ha='center', va='bottom')\n",
        "\n",
        "autolabel(rect1)\n",
        "autolabel(rect2)\n",
        "autolabel(rect3)\n",
        "autolabel(rect4)\n",
        "ax.legend(labels=['accuracy', 'f1_score', 'recall', 'precision'],loc='best')\n",
        "plt.ylim(0, 1)"
      ],
      "execution_count": null,
      "outputs": [
        {
          "output_type": "execute_result",
          "data": {
            "text/plain": [
              "(0.0, 1.0)"
            ]
          },
          "metadata": {
            "tags": []
          },
          "execution_count": 151
        },
        {
          "output_type": "display_data",
          "data": {
            "image/png": "[encoded data removed]",
            "text/plain": [
              "<Figure size 576x144 with 1 Axes>"
            ]
          },
          "metadata": {
            "tags": [],
            "needs_background": "light"
          }
        }
      ]
    },
    {
      "cell_type": "markdown",
      "metadata": {
        "id": "Bpb35nPlTI1g"
      },
      "source": [
        "### Training on Fasttext Embedding Only"
      ]
    },
    {
      "cell_type": "code",
      "metadata": {
        "id": "ext78JdGVwvv"
      },
      "source": [
        "keras.backend.clear_session()"
      ],
      "execution_count": null,
      "outputs": []
    },
    {
      "cell_type": "code",
      "metadata": {
        "id": "dleDGpLYU_3V"
      },
      "source": [
        "inp=Input(shape=(max_len, ))\n",
        "x=Embedding(num_words,embed_size,embeddings_initializer=Constant(fasttext),#Set Fasttext Embedding\n",
        "            input_length=max_len,trainable=False)(inp)\n",
        "x = SpatialDropout1D(0.2)(x)\n",
        "x=Bidirectional(GRU(150, return_sequences = True))(x)\n",
        "avg_pool = GlobalAveragePooling1D()(x)\n",
        "max_pool = GlobalMaxPool1D()(x)\n",
        "conc = concatenate([avg_pool, max_pool])\n",
        "\n",
        "\n",
        "x=Dropout(0.1)(conc)\n",
        "out=Dense(64, activation=\"relu\")(x)\n",
        "out=Dense(32, activation=\"relu\")(x)\n",
        "\n",
        "out=Dense(1, activation=\"sigmoid\")(x)\n",
        "\n",
        "model_ft=Model(inp,out)\n",
        "\n",
        "mcp_save = ModelCheckpoint('/content/sample_data/model.mdl_wts.hdf5', save_best_only=True,\n",
        "                           monitor='val_loss', mode='min',patience = 5)\n"
      ],
      "execution_count": null,
      "outputs": []
    },
    {
      "cell_type": "code",
      "metadata": {
        "id": "y8TojWn4Tijn"
      },
      "source": [
        "model_ft.compile(loss='binary_crossentropy', optimizer='adam', metrics=[f1])"
      ],
      "execution_count": null,
      "outputs": []
    },
    {
      "cell_type": "code",
      "metadata": {
        "id": "NhdxZk9cTm3X",
        "colab": {
          "base_uri": "https://localhost:8080/"
        },
        "outputId": "ffc27b1a-6fa4-4124-b56e-a5dd360d622c"
      },
      "source": [
        "model_ft.summary()"
      ],
      "execution_count": null,
      "outputs": [
        {
          "output_type": "stream",
          "text": [
            "Model: \"model\"\n",
            "__________________________________________________________________________________________________\n",
            "Layer (type)                    Output Shape         Param #     Connected to                     \n",
            "==================================================================================================\n",
            "input_1 (InputLayer)            [(None, 200)]        0                                            \n",
            "__________________________________________________________________________________________________\n",
            "embedding (Embedding)           (None, 200, 300)     1500300     input_1[0][0]                    \n",
            "__________________________________________________________________________________________________\n",
            "spatial_dropout1d (SpatialDropo (None, 200, 300)     0           embedding[0][0]                  \n",
            "__________________________________________________________________________________________________\n",
            "bidirectional (Bidirectional)   (None, 200, 300)     406800      spatial_dropout1d[0][0]          \n",
            "__________________________________________________________________________________________________\n",
            "global_average_pooling1d (Globa (None, 300)          0           bidirectional[0][0]              \n",
            "__________________________________________________________________________________________________\n",
            "global_max_pooling1d (GlobalMax (None, 300)          0           bidirectional[0][0]              \n",
            "__________________________________________________________________________________________________\n",
            "concatenate (Concatenate)       (None, 600)          0           global_average_pooling1d[0][0]   \n",
            "                                                                 global_max_pooling1d[0][0]       \n",
            "__________________________________________________________________________________________________\n",
            "dropout (Dropout)               (None, 600)          0           concatenate[0][0]                \n",
            "__________________________________________________________________________________________________\n",
            "dense_2 (Dense)                 (None, 1)            601         dropout[0][0]                    \n",
            "==================================================================================================\n",
            "Total params: 1,907,701\n",
            "Trainable params: 407,401\n",
            "Non-trainable params: 1,500,300\n",
            "__________________________________________________________________________________________________\n"
          ],
          "name": "stdout"
        }
      ]
    },
    {
      "cell_type": "code",
      "metadata": {
        "id": "Et2g6vcQT29F",
        "colab": {
          "base_uri": "https://localhost:8080/"
        },
        "outputId": "a684dda4-cb12-4319-d55b-c16a049d176f"
      },
      "source": [
        "model_ft.fit(sequences_matrix,y_train,batch_size=128,epochs=20,verbose=1,class_weight=class_weights,\n",
        "          validation_data=(test_sequences_matrix,y_test),callbacks=[callbacks])"
      ],
      "execution_count": null,
      "outputs": [
        {
          "output_type": "stream",
          "text": [
            "Epoch 1/20\n",
            "104/104 [==============================] - 8s 57ms/step - loss: 0.6400 - f1: 0.5908 - val_loss: 0.4783 - val_f1: 0.8600\n",
            "Epoch 2/20\n",
            "104/104 [==============================] - 5s 51ms/step - loss: 0.5156 - f1: 0.8137 - val_loss: 0.4096 - val_f1: 0.8786\n",
            "Epoch 3/20\n",
            "104/104 [==============================] - 5s 51ms/step - loss: 0.4943 - f1: 0.8272 - val_loss: 0.4369 - val_f1: 0.8615\n",
            "Epoch 4/20\n",
            "104/104 [==============================] - 5s 51ms/step - loss: 0.4856 - f1: 0.8280 - val_loss: 0.4282 - val_f1: 0.8629\n",
            "Epoch 5/20\n",
            "104/104 [==============================] - 5s 52ms/step - loss: 0.4740 - f1: 0.8350 - val_loss: 0.4073 - val_f1: 0.8766\n",
            "Epoch 6/20\n",
            "104/104 [==============================] - 6s 55ms/step - loss: 0.4640 - f1: 0.8372 - val_loss: 0.4047 - val_f1: 0.8824\n",
            "Epoch 7/20\n",
            "104/104 [==============================] - 5s 51ms/step - loss: 0.4510 - f1: 0.8437 - val_loss: 0.3988 - val_f1: 0.8840\n",
            "Epoch 8/20\n",
            "104/104 [==============================] - 5s 51ms/step - loss: 0.4362 - f1: 0.8543 - val_loss: 0.3975 - val_f1: 0.8831\n",
            "Epoch 9/20\n",
            "104/104 [==============================] - 5s 51ms/step - loss: 0.4371 - f1: 0.8480 - val_loss: 0.4218 - val_f1: 0.8658\n",
            "Epoch 10/20\n",
            "104/104 [==============================] - 5s 51ms/step - loss: 0.4250 - f1: 0.8536 - val_loss: 0.4015 - val_f1: 0.8793\n",
            "Epoch 11/20\n",
            "104/104 [==============================] - 5s 51ms/step - loss: 0.4073 - f1: 0.8600 - val_loss: 0.4370 - val_f1: 0.8501\n",
            "Epoch 12/20\n",
            "104/104 [==============================] - 5s 51ms/step - loss: 0.3897 - f1: 0.8710 - val_loss: 0.3884 - val_f1: 0.8838\n",
            "Epoch 13/20\n",
            "104/104 [==============================] - 5s 51ms/step - loss: 0.3763 - f1: 0.8807 - val_loss: 0.3834 - val_f1: 0.8917\n",
            "Epoch 14/20\n",
            "104/104 [==============================] - 5s 51ms/step - loss: 0.3636 - f1: 0.8845 - val_loss: 0.4102 - val_f1: 0.8706\n",
            "Epoch 15/20\n",
            "104/104 [==============================] - 5s 51ms/step - loss: 0.3334 - f1: 0.8959 - val_loss: 0.3974 - val_f1: 0.8801\n",
            "Epoch 16/20\n",
            "104/104 [==============================] - 5s 51ms/step - loss: 0.3296 - f1: 0.8975 - val_loss: 0.4132 - val_f1: 0.8744\n",
            "Epoch 17/20\n",
            "104/104 [==============================] - 5s 52ms/step - loss: 0.3055 - f1: 0.9053 - val_loss: 0.4207 - val_f1: 0.8732\n",
            "Epoch 18/20\n",
            "104/104 [==============================] - 5s 52ms/step - loss: 0.2851 - f1: 0.9114 - val_loss: 0.4430 - val_f1: 0.8688\n",
            "Epoch 19/20\n",
            "104/104 [==============================] - 5s 52ms/step - loss: 0.2713 - f1: 0.9179 - val_loss: 0.4443 - val_f1: 0.8606\n",
            "Epoch 20/20\n",
            "104/104 [==============================] - 5s 52ms/step - loss: 0.2446 - f1: 0.9272 - val_loss: 0.4418 - val_f1: 0.8874\n"
          ],
          "name": "stdout"
        },
        {
          "output_type": "execute_result",
          "data": {
            "text/plain": [
              "<tensorflow.python.keras.callbacks.History at 0x7f5544624cf8>"
            ]
          },
          "metadata": {
            "tags": []
          },
          "execution_count": 156
        }
      ]
    },
    {
      "cell_type": "code",
      "metadata": {
        "id": "wCLLX3EAT4NO",
        "colab": {
          "base_uri": "https://localhost:8080/"
        },
        "outputId": "67760a96-5b6f-4a85-c204-239edc7906b6"
      },
      "source": [
        "print(model_ft.evaluate(test_sequences_matrix,y_test))"
      ],
      "execution_count": null,
      "outputs": [
        {
          "output_type": "stream",
          "text": [
            "27/27 [==============================] - 0s 10ms/step - loss: 0.4418 - f1: 0.8847\n",
            "[0.4417601227760315, 0.8846835494041443]\n"
          ],
          "name": "stdout"
        }
      ]
    },
    {
      "cell_type": "code",
      "metadata": {
        "id": "KE9mBrlcUiTH",
        "colab": {
          "base_uri": "https://localhost:8080/"
        },
        "outputId": "2a675206-1dc4-47f0-9374-82e4dee093b3"
      },
      "source": [
        "y_pred_ft = model_ft.predict(test_sequences_matrix, batch_size=128, verbose=1)\n",
        "y_pred_bool_ft = np.argmax(y_pred, axis=1)\n",
        "y_pred_ft = (y_pred_ft > 0.5)\n",
        "\n",
        "print(classification_report(y_test, y_pred_ft))\n"
      ],
      "execution_count": null,
      "outputs": [
        {
          "output_type": "stream",
          "text": [
            "7/7 [==============================] - 1s 21ms/step\n",
            "              precision    recall  f1-score   support\n",
            "\n",
            "           0       0.74      0.61      0.67       240\n",
            "           1       0.86      0.92      0.89       620\n",
            "\n",
            "    accuracy                           0.83       860\n",
            "   macro avg       0.80      0.76      0.78       860\n",
            "weighted avg       0.83      0.83      0.83       860\n",
            "\n"
          ],
          "name": "stdout"
        }
      ]
    },
    {
      "cell_type": "code",
      "metadata": {
        "id": "sXj5owf2Ut0W"
      },
      "source": [
        "metric_ft =metrics.accuracy_score(y_test, y_pred_ft), metrics.f1_score(y_test, y_pred_ft, average='macro'), metrics.recall_score(y_test, y_pred_ft), metrics.precision_score(y_test, y_pred_ft)"
      ],
      "execution_count": null,
      "outputs": []
    },
    {
      "cell_type": "code",
      "metadata": {
        "id": "N49Fe5YsU7NE",
        "colab": {
          "base_uri": "https://localhost:8080/",
          "height": 225
        },
        "outputId": "8f0e834f-da33-4136-d05a-ff520dd9b277"
      },
      "source": [
        "fig = plt.figure()\n",
        "fig.set_size_inches(8,2)\n",
        "ax = fig.add_axes([0,0,1,1])\n",
        "rect1 = ax.bar(0.00,round(metric_ft[0], 2), color = 'b', width = 0.05)\n",
        "rect2 = ax.bar(0.20, round(metric_ft[1], 2), color = 'g', width = 0.05)\n",
        "rect3 = ax.bar(0.40, round(metric_ft[2], 2) , color = 'r', width = 0.05)\n",
        "rect4 = ax.bar(0.60, round(metric_ft[3], 2) , color = (1, 0, 1), width = 0.05)\n",
        "\n",
        "ax.set_ylabel('Scores')\n",
        "ax.set_title('metrics')\n",
        "\n",
        "\n",
        "autolabel(rect1)\n",
        "autolabel(rect2)\n",
        "autolabel(rect3)\n",
        "autolabel(rect4)\n",
        "ax.legend(labels=['accuracy', 'f1_score', 'recall', 'precision'],loc='best')\n",
        "plt.ylim(0, 1)"
      ],
      "execution_count": null,
      "outputs": [
        {
          "output_type": "execute_result",
          "data": {
            "text/plain": [
              "(0.0, 1.0)"
            ]
          },
          "metadata": {
            "tags": []
          },
          "execution_count": 160
        },
        {
          "output_type": "display_data",
          "data": {
            "image/png": "[encoded data removed]",
            "text/plain": [
              "<Figure size 576x144 with 1 Axes>"
            ]
          },
          "metadata": {
            "tags": [],
            "needs_background": "light"
          }
        }
      ]
    },
    {
      "cell_type": "markdown",
      "metadata": {
        "id": "3Ca2_sYRVNIB"
      },
      "source": [
        "### Training on Glove Embedding"
      ]
    },
    {
      "cell_type": "code",
      "metadata": {
        "id": "kNgL6uROVtIh"
      },
      "source": [
        "keras.backend.clear_session()"
      ],
      "execution_count": null,
      "outputs": []
    },
    {
      "cell_type": "code",
      "metadata": {
        "id": "RppMYT6GVIsO"
      },
      "source": [
        "inp=Input(shape=(max_len, ))\n",
        "x=Embedding(num_words,embed_size,embeddings_initializer=Constant(glove_emb),#Set GloVe Embedding\n",
        "            input_length=max_len,trainable=False)(inp)\n",
        "x = SpatialDropout1D(0.2)(x)\n",
        "x=Bidirectional(GRU(150, return_sequences = True))(x)\n",
        "avg_pool = GlobalAveragePooling1D()(x)\n",
        "max_pool = GlobalMaxPool1D()(x)\n",
        "conc = concatenate([avg_pool, max_pool])\n",
        "\n",
        "\n",
        "x=Dropout(0.1)(conc)\n",
        "out=Dense(64, activation=\"relu\")(x)\n",
        "out=Dense(32, activation=\"relu\")(x)\n",
        "\n",
        "out=Dense(1, activation=\"sigmoid\")(x)\n",
        "\n",
        "model_gl=Model(inp,out)\n",
        "\n",
        "mcp_save = ModelCheckpoint('/content/sample_data/model.mdl_wts.hdf5', save_best_only=True,\n",
        "                           monitor='val_loss', mode='min',patience = 5)\n"
      ],
      "execution_count": null,
      "outputs": []
    },
    {
      "cell_type": "code",
      "metadata": {
        "id": "nkOqskReVic8"
      },
      "source": [
        "model_gl.compile(loss='binary_crossentropy', optimizer='adam', metrics=[f1])"
      ],
      "execution_count": null,
      "outputs": []
    },
    {
      "cell_type": "code",
      "metadata": {
        "id": "v61mGNskVmHU",
        "colab": {
          "base_uri": "https://localhost:8080/"
        },
        "outputId": "69587137-8e23-4325-e404-bb82eb2b253b"
      },
      "source": [
        "model_gl.summary()"
      ],
      "execution_count": null,
      "outputs": [
        {
          "output_type": "stream",
          "text": [
            "Model: \"model\"\n",
            "__________________________________________________________________________________________________\n",
            "Layer (type)                    Output Shape         Param #     Connected to                     \n",
            "==================================================================================================\n",
            "input_1 (InputLayer)            [(None, 200)]        0                                            \n",
            "__________________________________________________________________________________________________\n",
            "embedding (Embedding)           (None, 200, 300)     1500300     input_1[0][0]                    \n",
            "__________________________________________________________________________________________________\n",
            "spatial_dropout1d (SpatialDropo (None, 200, 300)     0           embedding[0][0]                  \n",
            "__________________________________________________________________________________________________\n",
            "bidirectional (Bidirectional)   (None, 200, 300)     406800      spatial_dropout1d[0][0]          \n",
            "__________________________________________________________________________________________________\n",
            "global_average_pooling1d (Globa (None, 300)          0           bidirectional[0][0]              \n",
            "__________________________________________________________________________________________________\n",
            "global_max_pooling1d (GlobalMax (None, 300)          0           bidirectional[0][0]              \n",
            "__________________________________________________________________________________________________\n",
            "concatenate (Concatenate)       (None, 600)          0           global_average_pooling1d[0][0]   \n",
            "                                                                 global_max_pooling1d[0][0]       \n",
            "__________________________________________________________________________________________________\n",
            "dropout (Dropout)               (None, 600)          0           concatenate[0][0]                \n",
            "__________________________________________________________________________________________________\n",
            "dense_2 (Dense)                 (None, 1)            601         dropout[0][0]                    \n",
            "==================================================================================================\n",
            "Total params: 1,907,701\n",
            "Trainable params: 407,401\n",
            "Non-trainable params: 1,500,300\n",
            "__________________________________________________________________________________________________\n"
          ],
          "name": "stdout"
        }
      ]
    },
    {
      "cell_type": "code",
      "metadata": {
        "id": "5BW4PR-AVnAD",
        "colab": {
          "base_uri": "https://localhost:8080/"
        },
        "outputId": "10fb4233-4c94-4562-801d-5533a5dbdf65"
      },
      "source": [
        "model_gl.fit(sequences_matrix,y_train,batch_size=128,epochs=20,verbose=1,class_weight=class_weights,\n",
        "          validation_data=(test_sequences_matrix,y_test),callbacks=[callbacks])"
      ],
      "execution_count": null,
      "outputs": [
        {
          "output_type": "stream",
          "text": [
            "Epoch 1/20\n",
            "104/104 [==============================] - 8s 57ms/step - loss: 0.6105 - f1: 0.6536 - val_loss: 0.4504 - val_f1: 0.8593\n",
            "Epoch 2/20\n",
            "104/104 [==============================] - 5s 51ms/step - loss: 0.5026 - f1: 0.8190 - val_loss: 0.4787 - val_f1: 0.8357\n",
            "Epoch 3/20\n",
            "104/104 [==============================] - 5s 51ms/step - loss: 0.4786 - f1: 0.8267 - val_loss: 0.4172 - val_f1: 0.8715\n",
            "Epoch 4/20\n",
            "104/104 [==============================] - 5s 51ms/step - loss: 0.4663 - f1: 0.8356 - val_loss: 0.3813 - val_f1: 0.8892\n",
            "Epoch 5/20\n",
            "104/104 [==============================] - 5s 51ms/step - loss: 0.4429 - f1: 0.8503 - val_loss: 0.4293 - val_f1: 0.8523\n",
            "Epoch 6/20\n",
            "104/104 [==============================] - 5s 51ms/step - loss: 0.4359 - f1: 0.8440 - val_loss: 0.3894 - val_f1: 0.8773\n",
            "Epoch 7/20\n",
            "104/104 [==============================] - 5s 51ms/step - loss: 0.4200 - f1: 0.8562 - val_loss: 0.4019 - val_f1: 0.8690\n",
            "Epoch 8/20\n",
            "104/104 [==============================] - 5s 51ms/step - loss: 0.4077 - f1: 0.8594 - val_loss: 0.4183 - val_f1: 0.8612\n",
            "Epoch 9/20\n",
            "104/104 [==============================] - 5s 51ms/step - loss: 0.3837 - f1: 0.8710 - val_loss: 0.3750 - val_f1: 0.8862\n",
            "Epoch 10/20\n",
            "104/104 [==============================] - 5s 51ms/step - loss: 0.3680 - f1: 0.8799 - val_loss: 0.4175 - val_f1: 0.8619\n",
            "Epoch 11/20\n",
            "104/104 [==============================] - 5s 51ms/step - loss: 0.3394 - f1: 0.8909 - val_loss: 0.3898 - val_f1: 0.8900\n",
            "Epoch 12/20\n",
            "104/104 [==============================] - 5s 51ms/step - loss: 0.3118 - f1: 0.9039 - val_loss: 0.3852 - val_f1: 0.8902\n",
            "Epoch 13/20\n",
            "104/104 [==============================] - 5s 52ms/step - loss: 0.2810 - f1: 0.9212 - val_loss: 0.4083 - val_f1: 0.8725\n",
            "Epoch 14/20\n",
            "104/104 [==============================] - 5s 51ms/step - loss: 0.2629 - f1: 0.9250 - val_loss: 0.3984 - val_f1: 0.8858\n",
            "Epoch 15/20\n",
            "104/104 [==============================] - 5s 51ms/step - loss: 0.2311 - f1: 0.9376 - val_loss: 0.4072 - val_f1: 0.8879\n",
            "Epoch 16/20\n",
            "104/104 [==============================] - 5s 52ms/step - loss: 0.2103 - f1: 0.9430 - val_loss: 0.4299 - val_f1: 0.8821\n",
            "Epoch 17/20\n",
            "104/104 [==============================] - 5s 51ms/step - loss: 0.1879 - f1: 0.9518 - val_loss: 0.4310 - val_f1: 0.8850\n",
            "Epoch 18/20\n",
            "104/104 [==============================] - 5s 51ms/step - loss: 0.1720 - f1: 0.9548 - val_loss: 0.4570 - val_f1: 0.8798\n",
            "Epoch 19/20\n",
            "104/104 [==============================] - 5s 52ms/step - loss: 0.1537 - f1: 0.9615 - val_loss: 0.4615 - val_f1: 0.8932\n",
            "Epoch 20/20\n",
            "104/104 [==============================] - 5s 51ms/step - loss: 0.1295 - f1: 0.9694 - val_loss: 0.4821 - val_f1: 0.8915\n"
          ],
          "name": "stdout"
        },
        {
          "output_type": "execute_result",
          "data": {
            "text/plain": [
              "<tensorflow.python.keras.callbacks.History at 0x7f55422abbe0>"
            ]
          },
          "metadata": {
            "tags": []
          },
          "execution_count": 165
        }
      ]
    },
    {
      "cell_type": "code",
      "metadata": {
        "id": "OwEg6S7rV06z",
        "colab": {
          "base_uri": "https://localhost:8080/"
        },
        "outputId": "0f542af7-3495-46ba-919d-24b7126df9c0"
      },
      "source": [
        "print(model_gl.evaluate(test_sequences_matrix,y_test))"
      ],
      "execution_count": null,
      "outputs": [
        {
          "output_type": "stream",
          "text": [
            "27/27 [==============================] - 0s 11ms/step - loss: 0.4821 - f1: 0.8896\n",
            "[0.48209846019744873, 0.8896205425262451]\n"
          ],
          "name": "stdout"
        }
      ]
    },
    {
      "cell_type": "code",
      "metadata": {
        "id": "baqGd0B1V5p0",
        "colab": {
          "base_uri": "https://localhost:8080/"
        },
        "outputId": "664d1fde-4ed4-4425-9944-e7c5927a462e"
      },
      "source": [
        "y_pred_gl = model_gl.predict(test_sequences_matrix, batch_size=128, verbose=1)\n",
        "y_pred_bool_gl = np.argmax(y_pred, axis=1)\n",
        "y_pred_gl = (y_pred_gl > 0.5)\n",
        "\n",
        "print(classification_report(y_test, y_pred_gl))\n"
      ],
      "execution_count": null,
      "outputs": [
        {
          "output_type": "stream",
          "text": [
            "7/7 [==============================] - 1s 21ms/step\n",
            "              precision    recall  f1-score   support\n",
            "\n",
            "           0       0.76      0.61      0.68       240\n",
            "           1       0.86      0.93      0.89       620\n",
            "\n",
            "    accuracy                           0.84       860\n",
            "   macro avg       0.81      0.77      0.78       860\n",
            "weighted avg       0.83      0.84      0.83       860\n",
            "\n"
          ],
          "name": "stdout"
        }
      ]
    },
    {
      "cell_type": "code",
      "metadata": {
        "id": "u9oqC1r-WBT-"
      },
      "source": [
        "metric_gl =metrics.accuracy_score(y_test, y_pred_gl), metrics.f1_score(y_test, y_pred_gl, average='macro'), metrics.recall_score(y_test, y_pred_gl), metrics.precision_score(y_test, y_pred_gl)"
      ],
      "execution_count": null,
      "outputs": []
    },
    {
      "cell_type": "code",
      "metadata": {
        "id": "aej9KlRxWJ1c",
        "colab": {
          "base_uri": "https://localhost:8080/",
          "height": 225
        },
        "outputId": "12f1d525-8d97-47d3-b038-585175fd15d0"
      },
      "source": [
        "fig = plt.figure()\n",
        "fig.set_size_inches(8,2)\n",
        "ax = fig.add_axes([0,0,1,1])\n",
        "rect1 = ax.bar(0.00,round(metric_gl[0], 2), color = 'b', width = 0.05)\n",
        "rect2 = ax.bar(0.20, round(metric_gl[1], 2), color = 'g', width = 0.05)\n",
        "rect3 = ax.bar(0.40, round(metric_gl[2], 2) , color = 'r', width = 0.05)\n",
        "rect4 = ax.bar(0.60, round(metric_gl[3], 2) , color = (1, 0, 1), width = 0.05)\n",
        "\n",
        "ax.set_ylabel('Scores')\n",
        "ax.set_title('metrics')\n",
        "\n",
        "autolabel(rect1)\n",
        "autolabel(rect2)\n",
        "autolabel(rect3)\n",
        "autolabel(rect4)\n",
        "ax.legend(labels=['accuracy', 'f1_score', 'recall', 'precision'],loc='best')\n",
        "plt.ylim(0, 1)"
      ],
      "execution_count": null,
      "outputs": [
        {
          "output_type": "execute_result",
          "data": {
            "text/plain": [
              "(0.0, 1.0)"
            ]
          },
          "metadata": {
            "tags": []
          },
          "execution_count": 169
        },
        {
          "output_type": "display_data",
          "data": {
            "image/png": "[encoded data removed]",
            "text/plain": [
              "<Figure size 576x144 with 1 Axes>"
            ]
          },
          "metadata": {
            "tags": [],
            "needs_background": "light"
          }
        }
      ]
    },
    {
      "cell_type": "markdown",
      "metadata": {
        "id": "l6ud_gVNWd4a"
      },
      "source": [
        "### Comparing the three results"
      ]
    },
    {
      "cell_type": "code",
      "metadata": {
        "id": "UAPfKBxEYLV5"
      },
      "source": [
        "Data = [('Fasttext',) + metric_ft  ,\n",
        "        ('GloVe',)+ metric_gl ,\n",
        "         ('Fasttext + GloVe',)+ metric ]"
      ],
      "execution_count": null,
      "outputs": []
    },
    {
      "cell_type": "code",
      "metadata": {
        "id": "d6UM1nPKWkH6"
      },
      "source": [
        "Results = pd.DataFrame(data =  Data , columns=['Embedding','Accuracy','F1_score','Recall','Precision'])"
      ],
      "execution_count": null,
      "outputs": []
    },
    {
      "cell_type": "code",
      "metadata": {
        "id": "lDLH9XzeXAUp",
        "colab": {
          "base_uri": "https://localhost:8080/",
          "height": 138
        },
        "outputId": "16ddc550-a899-4b23-f8c5-c39db61b3221"
      },
      "source": [
        "Results"
      ],
      "execution_count": null,
      "outputs": [
        {
          "output_type": "execute_result",
          "data": {
            "text/html": [
              "<div>\n",
              "<style scoped>\n",
              "    .dataframe tbody tr th:only-of-type {\n",
              "        vertical-align: middle;\n",
              "    }\n",
              "\n",
              "    .dataframe tbody tr th {\n",
              "        vertical-align: top;\n",
              "    }\n",
              "\n",
              "    .dataframe thead th {\n",
              "        text-align: right;\n",
              "    }\n",
              "</style>\n",
              "<table border=\"1\" class=\"dataframe\">\n",
              "  <thead>\n",
              "    <tr style=\"text-align: right;\">\n",
              "      <th></th>\n",
              "      <th>Embedding</th>\n",
              "      <th>Accuracy</th>\n",
              "      <th>F1_score</th>\n",
              "      <th>Recall</th>\n",
              "      <th>Precision</th>\n",
              "    </tr>\n",
              "  </thead>\n",
              "  <tbody>\n",
              "    <tr>\n",
              "      <th>0</th>\n",
              "      <td>Fasttext</td>\n",
              "      <td>0.832558</td>\n",
              "      <td>0.778788</td>\n",
              "      <td>0.919355</td>\n",
              "      <td>0.858434</td>\n",
              "    </tr>\n",
              "    <tr>\n",
              "      <th>1</th>\n",
              "      <td>GloVe</td>\n",
              "      <td>0.838372</td>\n",
              "      <td>0.784829</td>\n",
              "      <td>0.927419</td>\n",
              "      <td>0.859492</td>\n",
              "    </tr>\n",
              "    <tr>\n",
              "      <th>2</th>\n",
              "      <td>Fasttext + GloVe</td>\n",
              "      <td>0.844186</td>\n",
              "      <td>0.794770</td>\n",
              "      <td>0.925806</td>\n",
              "      <td>0.867069</td>\n",
              "    </tr>\n",
              "  </tbody>\n",
              "</table>\n",
              "</div>"
            ],
            "text/plain": [
              "          Embedding  Accuracy  F1_score    Recall  Precision\n",
              "0          Fasttext  0.832558  0.778788  0.919355   0.858434\n",
              "1             GloVe  0.838372  0.784829  0.927419   0.859492\n",
              "2  Fasttext + GloVe  0.844186  0.794770  0.925806   0.867069"
            ]
          },
          "metadata": {
            "tags": []
          },
          "execution_count": 172
        }
      ]
    },
    {
      "cell_type": "code",
      "metadata": {
        "id": "NEnxZtn1sGWd"
      },
      "source": [
        ""
      ],
      "execution_count": null,
      "outputs": []
    }
  ]
}