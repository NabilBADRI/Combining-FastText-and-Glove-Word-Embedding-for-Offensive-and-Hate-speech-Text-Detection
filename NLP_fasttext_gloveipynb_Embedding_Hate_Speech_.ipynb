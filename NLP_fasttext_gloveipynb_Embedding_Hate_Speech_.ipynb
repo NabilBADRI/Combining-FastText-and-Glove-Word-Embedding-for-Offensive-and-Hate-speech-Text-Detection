{
  "nbformat": 4,
  "nbformat_minor": 0,
  "metadata": {
    "accelerator": "GPU",
    "colab": {
      "name": "NLP_fasttext_gloveipynb_Embedding_Hate_Speech_.ipynb",
      "provenance": [],
      "collapsed_sections": []
    },
    "kernelspec": {
      "display_name": "Python 3",
      "name": "python3"
    }
  },
  "cells": [
    {
      "cell_type": "code",
      "metadata": {
        "colab": {
          "base_uri": "https://localhost:8080/"
        },
        "id": "6pkvGyUqqCMG",
        "outputId": "5f84d50a-a680-49d8-ab39-f547387e272c"
      },
      "source": [
        "from google.colab import drive\n",
        "drive.mount('/content/drive')"
      ],
      "execution_count": null,
      "outputs": [
        {
          "output_type": "stream",
          "text": [
            "Mounted at /content/drive\n"
          ],
          "name": "stdout"
        }
      ]
    },
    {
      "cell_type": "code",
      "metadata": {
        "colab": {
          "base_uri": "https://localhost:8080/"
        },
        "id": "fnOwTGAXpLvI",
        "outputId": "b5150b66-77d7-40ff-9c16-28733fc559d3"
      },
      "source": [
        "from tensorflow import keras\n",
        "import numpy as np\n",
        "import re\n",
        "import nltk\n",
        "from nltk.corpus import stopwords\n",
        "import string\n",
        "import pandas as pd\n",
        "from nltk.stem import WordNetLemmatizer\n",
        "from nltk.corpus import stopwords\n",
        "nltk.download('stopwords')\n",
        "nltk.download('wordnet')"
      ],
      "execution_count": null,
      "outputs": [
        {
          "output_type": "stream",
          "text": [
            "[nltk_data] Downloading package stopwords to /root/nltk_data...\n",
            "[nltk_data]   Unzipping corpora/stopwords.zip.\n",
            "[nltk_data] Downloading package wordnet to /root/nltk_data...\n",
            "[nltk_data]   Unzipping corpora/wordnet.zip.\n"
          ],
          "name": "stdout"
        },
        {
          "output_type": "execute_result",
          "data": {
            "text/plain": [
              "True"
            ]
          },
          "metadata": {
            "tags": []
          },
          "execution_count": 2
        }
      ]
    },
    {
      "cell_type": "code",
      "metadata": {
        "id": "qpYZxDnjpo32"
      },
      "source": [
        "df=pd.read_csv('/content/drive/MyDrive/kaggle-nabil-badri/dataset-hatespeech+rumor/hatespeech_text_label_vote - hatespeech_text_label_vote.csv')"
      ],
      "execution_count": null,
      "outputs": []
    },
    {
      "cell_type": "code",
      "metadata": {
        "colab": {
          "base_uri": "https://localhost:8080/",
          "height": 198
        },
        "id": "fhQ-DBPA9NUo",
        "outputId": "c800887c-016a-411b-cd7c-8546da928655"
      },
      "source": [
        "df.head()"
      ],
      "execution_count": null,
      "outputs": [
        {
          "output_type": "execute_result",
          "data": {
            "text/html": [
              "<div>\n",
              "<style scoped>\n",
              "    .dataframe tbody tr th:only-of-type {\n",
              "        vertical-align: middle;\n",
              "    }\n",
              "\n",
              "    .dataframe tbody tr th {\n",
              "        vertical-align: top;\n",
              "    }\n",
              "\n",
              "    .dataframe thead th {\n",
              "        text-align: right;\n",
              "    }\n",
              "</style>\n",
              "<table border=\"1\" class=\"dataframe\">\n",
              "  <thead>\n",
              "    <tr style=\"text-align: right;\">\n",
              "      <th></th>\n",
              "      <th>text</th>\n",
              "      <th>label</th>\n",
              "      <th>Unnamed: 2</th>\n",
              "    </tr>\n",
              "  </thead>\n",
              "  <tbody>\n",
              "    <tr>\n",
              "      <th>0</th>\n",
              "      <td>Beats by Dr. Dre urBeats Wired In-Ear Headphon...</td>\n",
              "      <td>spam</td>\n",
              "      <td>4</td>\n",
              "    </tr>\n",
              "    <tr>\n",
              "      <th>1</th>\n",
              "      <td>RT @Papapishu: Man it would fucking rule if we...</td>\n",
              "      <td>abusive</td>\n",
              "      <td>4</td>\n",
              "    </tr>\n",
              "    <tr>\n",
              "      <th>2</th>\n",
              "      <td>It is time to draw close to Him &amp;#128591;&amp;#127...</td>\n",
              "      <td>normal</td>\n",
              "      <td>4</td>\n",
              "    </tr>\n",
              "    <tr>\n",
              "      <th>3</th>\n",
              "      <td>if you notice me start to act different or dis...</td>\n",
              "      <td>normal</td>\n",
              "      <td>5</td>\n",
              "    </tr>\n",
              "    <tr>\n",
              "      <th>4</th>\n",
              "      <td>Forget unfollowers, I believe in growing. 7 ne...</td>\n",
              "      <td>normal</td>\n",
              "      <td>3</td>\n",
              "    </tr>\n",
              "  </tbody>\n",
              "</table>\n",
              "</div>"
            ],
            "text/plain": [
              "                                                text    label  Unnamed: 2\n",
              "0  Beats by Dr. Dre urBeats Wired In-Ear Headphon...     spam           4\n",
              "1  RT @Papapishu: Man it would fucking rule if we...  abusive           4\n",
              "2  It is time to draw close to Him &#128591;&#127...   normal           4\n",
              "3  if you notice me start to act different or dis...   normal           5\n",
              "4  Forget unfollowers, I believe in growing. 7 ne...   normal           3"
            ]
          },
          "metadata": {
            "tags": []
          },
          "execution_count": 4
        }
      ]
    },
    {
      "cell_type": "code",
      "metadata": {
        "colab": {
          "base_uri": "https://localhost:8080/"
        },
        "id": "M5hWpk8U9aem",
        "outputId": "c713143a-f48c-4cd5-b7e9-20f7bffcf862"
      },
      "source": [
        "df.shape"
      ],
      "execution_count": null,
      "outputs": [
        {
          "output_type": "execute_result",
          "data": {
            "text/plain": [
              "(99996, 3)"
            ]
          },
          "metadata": {
            "tags": []
          },
          "execution_count": 5
        }
      ]
    },
    {
      "cell_type": "code",
      "metadata": {
        "id": "y2LL09HB9lGx"
      },
      "source": [
        "X = df.text\n",
        "y = df.label\n",
        "y = pd.factorize(y)[0]\n",
        "Y = keras.utils.to_categorical(y)"
      ],
      "execution_count": null,
      "outputs": []
    },
    {
      "cell_type": "code",
      "metadata": {
        "id": "vRIxNCbT9dPh"
      },
      "source": [
        "from sklearn.model_selection import train_test_split"
      ],
      "execution_count": null,
      "outputs": []
    },
    {
      "cell_type": "code",
      "metadata": {
        "id": "4s35xCo99jFF"
      },
      "source": [
        "x_train,x_test,y_train,y_test = train_test_split(X,Y,test_size = 0.2, random_state = 42)"
      ],
      "execution_count": null,
      "outputs": []
    },
    {
      "cell_type": "code",
      "metadata": {
        "id": "eFiQhpXEiQZe"
      },
      "source": [
        "_,_,_,y_test_p = train_test_split(X,y,test_size = 0.2, random_state = 42)"
      ],
      "execution_count": null,
      "outputs": []
    },
    {
      "cell_type": "code",
      "metadata": {
        "colab": {
          "base_uri": "https://localhost:8080/"
        },
        "id": "reTRftvWpUJk",
        "outputId": "7a30b4c5-641d-417a-ae57-ea3122eedafb"
      },
      "source": [
        "import collections\n",
        "collections.Counter(y)"
      ],
      "execution_count": null,
      "outputs": [
        {
          "output_type": "execute_result",
          "data": {
            "text/plain": [
              "Counter({0: 14030, 1: 27150, 2: 53851, 3: 4965})"
            ]
          },
          "metadata": {
            "tags": []
          },
          "execution_count": 10
        }
      ]
    },
    {
      "cell_type": "code",
      "metadata": {
        "colab": {
          "base_uri": "https://localhost:8080/",
          "height": 34
        },
        "id": "qMwojEJFiiBY",
        "outputId": "d552d76f-fbf2-4663-a437-d57854d0e96e"
      },
      "source": [
        "x=x_train[225].lower().replace('@user','').replace('url','')\n",
        "x=re.sub('[^A-Za-z]', ' ', x)\n",
        "re.sub('http[s]?://(?:[a-zA-Z]|[0-9]|[$-_@.&+]|'\n",
        "        '[!*\\(\\),]|(?:%[0-9a-fA-F][0-9a-fA-F]))+','',x)"
      ],
      "execution_count": null,
      "outputs": [
        {
          "output_type": "execute_result",
          "data": {
            "application/vnd.google.colaboratory.intrinsic+json": {
              "type": "string"
            },
            "text/plain": [
              "'ty     papittsburgh  hsd academics  hermitagepa pd for partnering for  danielslaw outreach https   t co lkfsvgfys '"
            ]
          },
          "metadata": {
            "tags": []
          },
          "execution_count": 11
        }
      ]
    },
    {
      "cell_type": "code",
      "metadata": {
        "id": "0KkTgzF_q4s1"
      },
      "source": [
        "# Creating the training corpus\n",
        "stop_words = set(stopwords.words(\"english\")) \n",
        "lemmatizer = WordNetLemmatizer()\n",
        "corpus_train = []\n",
        "for i in x_train:\n",
        "    x=i.lower()\n",
        "    x=x.replace('@user','')\n",
        "    x=x.replace('@[\\w\\-]+','')\n",
        "    #x=x.translate(str.maketrans('', '', string.punctuation))\n",
        "    x = re.sub('[^A-Za-z]', ' ', x)\n",
        "    #x=re.sub('\\s+',' ',x)\n",
        "    x=re.sub('http[s]?://(?:[a-zA-Z]|[0-9]|[$-_@.&+]|'\n",
        "        '[!*\\(\\),]|(?:%[0-9a-fA-F][0-9a-fA-F]))+','',x) #url\n",
        "    #x = [lemmatizer.lemmatize(token) for token in x.split(\" \")]\n",
        "    #x = [word for word in x if not word in stop_words]\n",
        "    #x=\" \".join(x)\n",
        "    corpus_train.append(x)    \n",
        "# Creating the training corpus\n",
        "corpus_test = []\n",
        "for i in x_test:\n",
        "    x=i.lower()\n",
        "    x=x.replace('@user','')\n",
        "    x=x.replace('@[\\w\\-]+','')\n",
        "    #x=x.translate(str.maketrans('', '', string.punctuation))\n",
        "    x = re.sub('[^A-Za-z]', ' ', x)\n",
        "    #x=re.sub('\\s+',' ',x)\n",
        "    x=re.sub('http[s]?://(?:[a-zA-Z]|[0-9]|[$-_@.&+]|'\n",
        "        '[!*\\(\\),]|(?:%[0-9a-fA-F][0-9a-fA-F]))+','',x) #url\n",
        "    #x = [lemmatizer.lemmatize(token) for token in x.split(\" \")]\n",
        "    #x = [word for word in x if not word in stop_words]\n",
        "    #x=\" \".join(x)\n",
        "    corpus_test.append(x) "
      ],
      "execution_count": null,
      "outputs": []
    },
    {
      "cell_type": "code",
      "metadata": {
        "id": "GyyHvozBq7kf"
      },
      "source": [
        "from keras.preprocessing.text import Tokenizer\n",
        "from keras.preprocessing import sequence\n",
        "max_words = 5000 #frequency of words to be kept\n",
        "max_len = 200\n",
        "\n",
        "tokenize = Tokenizer(num_words=max_words)\n",
        "tokenize.fit_on_texts(corpus_train)\n",
        "sequences = tokenize.texts_to_sequences(corpus_train)\n",
        "word_index = tokenize.word_index\n",
        "sequences_matrix = sequence.pad_sequences(sequences,maxlen=max_len)"
      ],
      "execution_count": null,
      "outputs": []
    },
    {
      "cell_type": "code",
      "metadata": {
        "colab": {
          "base_uri": "https://localhost:8080/"
        },
        "id": "sYN-06rwkCyJ",
        "outputId": "87a5bd9a-fa14-416f-83f0-2013c334f854"
      },
      "source": [
        "num_words = min(max_words, len(word_index)) + 1\n",
        "print(num_words)"
      ],
      "execution_count": null,
      "outputs": [
        {
          "output_type": "stream",
          "text": [
            "5001\n"
          ],
          "name": "stdout"
        }
      ]
    },
    {
      "cell_type": "code",
      "metadata": {
        "colab": {
          "base_uri": "https://localhost:8080/"
        },
        "id": "sUTpjXngtNTR",
        "outputId": "e7c83ea6-b95d-49f9-b593-35e1f18cbfb9"
      },
      "source": [
        "!unzip /content/drive/MyDrive/kaggle-nabil-badri/wikinews300d1mvec.zip"
      ],
      "execution_count": null,
      "outputs": [
        {
          "output_type": "stream",
          "text": [
            "Archive:  /content/drive/MyDrive/kaggle-nabil-badri/wikinews300d1mvec.zip\n",
            "  inflating: wiki-news-300d-1M.vec   \n"
          ],
          "name": "stdout"
        }
      ]
    },
    {
      "cell_type": "code",
      "metadata": {
        "id": "vlMA1Qwfg0EA"
      },
      "source": [
        "embedding_path1 = \"/content/wiki-news-300d-1M.vec\"\n",
        "embedding_path2 = \"/content/drive/MyDrive/kaggle-nabil-badri/glove.840B.300d.txt\"\n",
        "embed_size = 300"
      ],
      "execution_count": null,
      "outputs": []
    },
    {
      "cell_type": "code",
      "metadata": {
        "id": "TyxVJQ45rSW3"
      },
      "source": [
        "def get_coefs(word,*arr):\n",
        "    return word, np.asarray(arr, dtype='float32')\n",
        "\n",
        "def build_matrix(embedding_path, word_index):\n",
        "    embedding_index = dict(get_coefs(*o.strip().split(\" \")) for o in open(embedding_path))\n",
        "\n",
        "    nb_words = min(max_words, len(word_index))\n",
        "    embedding_matrix = np.zeros((nb_words + 1, embed_size))\n",
        "    for word, i in word_index.items():\n",
        "        if i >= max_words:\n",
        "            continue\n",
        "        embedding_vector = embedding_index.get(word)\n",
        "        if embedding_vector is not None:\n",
        "            embedding_matrix[i] = embedding_vector\n",
        "    return embedding_matrix"
      ],
      "execution_count": null,
      "outputs": []
    },
    {
      "cell_type": "code",
      "metadata": {
        "id": "zYUKY8LXkIoK"
      },
      "source": [
        "fasttext=build_matrix(embedding_path1, word_index)\n",
        "glove_emb=build_matrix(embedding_path2, word_index)"
      ],
      "execution_count": null,
      "outputs": []
    },
    {
      "cell_type": "code",
      "metadata": {
        "colab": {
          "base_uri": "https://localhost:8080/"
        },
        "id": "v7uZ-HJ4ln2_",
        "outputId": "6acd1b3b-19bf-414f-8147-bd23fb5481b2"
      },
      "source": [
        "embedding_matrix=np.mean((fasttext,glove_emb),axis=0)\n",
        "embedding_matrix.shape"
      ],
      "execution_count": null,
      "outputs": [
        {
          "output_type": "execute_result",
          "data": {
            "text/plain": [
              "(5001, 300)"
            ]
          },
          "metadata": {
            "tags": []
          },
          "execution_count": 19
        }
      ]
    },
    {
      "cell_type": "code",
      "metadata": {
        "id": "dLnt7QKJ8WzH"
      },
      "source": [
        "test_sequences = tokenize.texts_to_sequences(corpus_test)\n",
        "test_sequences_matrix = sequence.pad_sequences(test_sequences,maxlen=max_len)"
      ],
      "execution_count": null,
      "outputs": []
    },
    {
      "cell_type": "code",
      "metadata": {
        "id": "EVwNl2COnOTt"
      },
      "source": [
        "from keras import backend as K\n",
        "def f1(y_true, y_pred):\n",
        "    \n",
        "    def recall(y_true, y_pred):\n",
        "        \"\"\"Recall metric.\n",
        "\n",
        "        Only computes a batch-wise average of recall.\n",
        "\n",
        "        Computes the recall, a metric for multi-label classification of\n",
        "        how many relevant items are selected.\n",
        "        \"\"\"\n",
        "        true_positives = K.sum(K.round(K.clip(y_true * y_pred, 0, 1)))\n",
        "        possible_positives = K.sum(K.round(K.clip(y_true, 0, 1)))\n",
        "        recall = true_positives / (possible_positives + K.epsilon())\n",
        "        return recall\n",
        "\n",
        "    def precision(y_true, y_pred):\n",
        "        \"\"\"Precision metric.\n",
        "\n",
        "        Only computes a batch-wise average of precision.\n",
        "\n",
        "        Computes the precision, a metric for multi-label classification of\n",
        "        how many selected items are relevant.\n",
        "        \"\"\"\n",
        "        true_positives = K.sum(K.round(K.clip(y_true * y_pred, 0, 1)))\n",
        "        predicted_positives = K.sum(K.round(K.clip(y_pred, 0, 1)))\n",
        "        precision = true_positives / (predicted_positives + K.epsilon())\n",
        "        return precision\n",
        "    precision = precision(y_true, y_pred)\n",
        "    recall = recall(y_true, y_pred)\n",
        "    return 2*((precision*recall)/(precision+recall+K.epsilon()))"
      ],
      "execution_count": null,
      "outputs": []
    },
    {
      "cell_type": "code",
      "metadata": {
        "id": "NXVeADVjFDEG"
      },
      "source": [
        "from keras.callbacks import Callback\n",
        "class EarlyStoppingByAccuracy(Callback):\n",
        "    def __init__(self, monitor='val_f1', value=0.87, verbose=0):\n",
        "        super(Callback, self).__init__()\n",
        "        self.monitor = monitor\n",
        "        self.value = value\n",
        "        self.verbose = verbose\n",
        "\n",
        "    def on_epoch_end(self, epoch, logs={}):\n",
        "        current = logs.get(self.monitor)\n",
        "        if current is None:\n",
        "            warnings.warn(\"Early stopping requires %s available!\" % self.monitor, RuntimeWarning)\n",
        "\n",
        "        if current >= self.value:\n",
        "            if self.verbose > 0:\n",
        "                print(\"Epoch %05d: early stopping THR\" % epoch)\n",
        "            self.model.stop_training = True"
      ],
      "execution_count": null,
      "outputs": []
    },
    {
      "cell_type": "code",
      "metadata": {
        "id": "9QwiUz7VFJPz"
      },
      "source": [
        "callbacks = keras.callbacks.EarlyStopping(monitor='val_f1', mode='max', verbose=1,\n",
        "                                          patience=8,restore_best_weights = True)"
      ],
      "execution_count": null,
      "outputs": []
    },
    {
      "cell_type": "code",
      "metadata": {
        "id": "HkMkKWsJrzeN"
      },
      "source": [
        "from keras.models import Sequential,Model\n",
        "from tensorflow.compat.v1.keras.layers import CuDNNGRU\n",
        "from keras.layers import Embedding,Dense,GRU\n",
        "from keras.layers import Dropout,Bidirectional,GlobalMaxPool1D,GlobalAveragePooling1D\n",
        "from keras.layers import SpatialDropout1D,concatenate,Input\n",
        "from keras.optimizers import RMSprop\n",
        "from keras.initializers import Constant\n",
        "from sklearn.utils import class_weight\n",
        "from keras.callbacks import ModelCheckpoint\n",
        "import tensorflow as tf\n",
        "#tf.logging.set_verbosity(tf.logging.ERROR)\n"
      ],
      "execution_count": null,
      "outputs": []
    },
    {
      "cell_type": "code",
      "metadata": {
        "id": "Il9FI8EkTTBh"
      },
      "source": [
        "from sklearn.metrics import classification_report\n",
        "from sklearn.metrics import confusion_matrix, f1_score, precision_score, recall_score\n",
        "import matplotlib.pyplot as plt\n",
        "import seaborn as sns"
      ],
      "execution_count": null,
      "outputs": []
    },
    {
      "cell_type": "code",
      "metadata": {
        "id": "fL-leK_jTorh"
      },
      "source": [
        "class_weights = class_weight.compute_class_weight('balanced',np.unique(y),y)\n",
        "class_weights=dict(enumerate(class_weights))"
      ],
      "execution_count": null,
      "outputs": []
    },
    {
      "cell_type": "markdown",
      "metadata": {
        "id": "StHob8uHVS2A"
      },
      "source": [
        "# BIGRUs Model"
      ]
    },
    {
      "cell_type": "markdown",
      "metadata": {
        "id": "ZwFFlBGFR2tv"
      },
      "source": [
        "### Training a model with GloVe and Fasttext embedding"
      ]
    },
    {
      "cell_type": "code",
      "metadata": {
        "id": "EIRQc1aLRhHg"
      },
      "source": [
        "inp=Input(shape=(max_len, ))\n",
        "x=Embedding(num_words,embed_size,embeddings_initializer=Constant(embedding_matrix),\n",
        "            input_length=max_len,trainable=False)(inp)\n",
        "x = SpatialDropout1D(0.2)(x)\n",
        "x=Bidirectional(CuDNNGRU(150, return_sequences = True))(x)\n",
        "avg_pool = GlobalAveragePooling1D()(x)\n",
        "max_pool = GlobalMaxPool1D()(x)\n",
        "conc = concatenate([avg_pool, max_pool])\n",
        "\n",
        "\n",
        "x=Dropout(0.1)(conc)\n",
        "out=Dense(64, activation=\"relu\")(x)\n",
        "out=Dense(32, activation=\"relu\")(x)\n",
        "\n",
        "out=Dense(4, activation=\"softmax\")(x)\n",
        "\n",
        "model=Model(inp,out)\n",
        "\n",
        "mcp_save = ModelCheckpoint('/content/sample_data/model.mdl_wts.hdf5', save_best_only=True,\n",
        "                           monitor='val_loss', mode='min',patience = 5)\n",
        "\n"
      ],
      "execution_count": null,
      "outputs": []
    },
    {
      "cell_type": "code",
      "metadata": {
        "id": "hCVvlC7ARlLY"
      },
      "source": [
        "model.compile(loss='categorical_crossentropy', optimizer='adam', metrics=[f1])"
      ],
      "execution_count": null,
      "outputs": []
    },
    {
      "cell_type": "code",
      "metadata": {
        "colab": {
          "base_uri": "https://localhost:8080/"
        },
        "id": "LBDAzDdwRpeJ",
        "outputId": "38f44fe7-5d63-4c30-f2d4-988d315347df"
      },
      "source": [
        "model.summary()"
      ],
      "execution_count": null,
      "outputs": [
        {
          "output_type": "stream",
          "text": [
            "Model: \"model\"\n",
            "__________________________________________________________________________________________________\n",
            "Layer (type)                    Output Shape         Param #     Connected to                     \n",
            "==================================================================================================\n",
            "input_1 (InputLayer)            [(None, 200)]        0                                            \n",
            "__________________________________________________________________________________________________\n",
            "embedding (Embedding)           (None, 200, 300)     1500300     input_1[0][0]                    \n",
            "__________________________________________________________________________________________________\n",
            "spatial_dropout1d (SpatialDropo (None, 200, 300)     0           embedding[0][0]                  \n",
            "__________________________________________________________________________________________________\n",
            "bidirectional (Bidirectional)   (None, 200, 300)     406800      spatial_dropout1d[0][0]          \n",
            "__________________________________________________________________________________________________\n",
            "global_average_pooling1d (Globa (None, 300)          0           bidirectional[0][0]              \n",
            "__________________________________________________________________________________________________\n",
            "global_max_pooling1d (GlobalMax (None, 300)          0           bidirectional[0][0]              \n",
            "__________________________________________________________________________________________________\n",
            "concatenate (Concatenate)       (None, 600)          0           global_average_pooling1d[0][0]   \n",
            "                                                                 global_max_pooling1d[0][0]       \n",
            "__________________________________________________________________________________________________\n",
            "dropout (Dropout)               (None, 600)          0           concatenate[0][0]                \n",
            "__________________________________________________________________________________________________\n",
            "dense_2 (Dense)                 (None, 4)            2404        dropout[0][0]                    \n",
            "==================================================================================================\n",
            "Total params: 1,909,504\n",
            "Trainable params: 409,204\n",
            "Non-trainable params: 1,500,300\n",
            "__________________________________________________________________________________________________\n"
          ],
          "name": "stdout"
        }
      ]
    },
    {
      "cell_type": "code",
      "metadata": {
        "colab": {
          "base_uri": "https://localhost:8080/",
          "height": 726
        },
        "id": "joI2Fb9wtgbW",
        "outputId": "443142a9-a88c-4db1-e4f0-bd7fd6a91ff7"
      },
      "source": [
        "tf.keras.utils.plot_model(model, show_shapes=True)"
      ],
      "execution_count": null,
      "outputs": [
        {
          "output_type": "execute_result",
          "data": {
            "image/png": "[encoded data removed]",
            "text/plain": [
              "<IPython.core.display.Image object>"
            ]
          },
          "metadata": {
            "tags": []
          },
          "execution_count": 30
        }
      ]
    },
    {
      "cell_type": "code",
      "metadata": {
        "colab": {
          "base_uri": "https://localhost:8080/"
        },
        "id": "SFa5d1PhR__j",
        "outputId": "ab29b1d0-d753-4766-a650-b9531dfbdc9d"
      },
      "source": [
        "model.fit(sequences_matrix,y_train,batch_size=128,epochs=30,verbose=1,class_weight=class_weights,\n",
        "          validation_data=(test_sequences_matrix,y_test),callbacks=[callbacks])"
      ],
      "execution_count": null,
      "outputs": [
        {
          "output_type": "stream",
          "text": [
            "Epoch 1/30\n",
            "625/625 [==============================] - 97s 144ms/step - loss: 0.8432 - f1: 0.5334 - val_loss: 0.7196 - val_f1: 0.6794\n",
            "Epoch 2/30\n",
            "625/625 [==============================] - 89s 142ms/step - loss: 0.6790 - f1: 0.6904 - val_loss: 0.6071 - val_f1: 0.7516\n",
            "Epoch 3/30\n",
            "625/625 [==============================] - 89s 142ms/step - loss: 0.6626 - f1: 0.7059 - val_loss: 0.6258 - val_f1: 0.7427\n",
            "Epoch 4/30\n",
            "625/625 [==============================] - 89s 142ms/step - loss: 0.6459 - f1: 0.7133 - val_loss: 0.6898 - val_f1: 0.7075\n",
            "Epoch 5/30\n",
            "625/625 [==============================] - 89s 142ms/step - loss: 0.6168 - f1: 0.7229 - val_loss: 0.8634 - val_f1: 0.5973\n",
            "Epoch 6/30\n",
            "625/625 [==============================] - 89s 142ms/step - loss: 0.6068 - f1: 0.7256 - val_loss: 0.7163 - val_f1: 0.6830\n",
            "Epoch 7/30\n",
            "625/625 [==============================] - 89s 143ms/step - loss: 0.5847 - f1: 0.7339 - val_loss: 0.6563 - val_f1: 0.7235\n",
            "Epoch 8/30\n",
            "625/625 [==============================] - 89s 142ms/step - loss: 0.5674 - f1: 0.7408 - val_loss: 0.7254 - val_f1: 0.6881\n",
            "Epoch 9/30\n",
            "625/625 [==============================] - 89s 142ms/step - loss: 0.5509 - f1: 0.7485 - val_loss: 0.6617 - val_f1: 0.7215\n",
            "Epoch 10/30\n",
            "625/625 [==============================] - 89s 143ms/step - loss: 0.5269 - f1: 0.7542 - val_loss: 0.6897 - val_f1: 0.7083\n",
            "Restoring model weights from the end of the best epoch.\n",
            "Epoch 00010: early stopping\n"
          ],
          "name": "stdout"
        },
        {
          "output_type": "execute_result",
          "data": {
            "text/plain": [
              "<tensorflow.python.keras.callbacks.History at 0x7fd26a9a3cf8>"
            ]
          },
          "metadata": {
            "tags": []
          },
          "execution_count": 32
        }
      ]
    },
    {
      "cell_type": "code",
      "metadata": {
        "colab": {
          "background_save": true,
          "base_uri": "https://localhost:8080/"
        },
        "id": "1BD-ntr8rznW",
        "outputId": "d369c44b-28ee-4c4c-cd8b-747539dcbf51"
      },
      "source": [
        "print(model.evaluate(test_sequences_matrix,y_test))"
      ],
      "execution_count": null,
      "outputs": [
        {
          "output_type": "stream",
          "text": [
            "625/625 [==============================] - 28s 44ms/step - loss: 0.6071 - f1: 0.7509\n",
            "[0.607116162776947, 0.7508711218833923]\n"
          ],
          "name": "stdout"
        }
      ]
    },
    {
      "cell_type": "code",
      "metadata": {
        "colab": {
          "background_save": true
        },
        "id": "u-fKEe-4rzp4",
        "outputId": "97ea7fd0-a2f7-4dc5-ad75-cdc110884828"
      },
      "source": [
        "y_pred = model.predict(test_sequences_matrix, batch_size=128, verbose=1)\n",
        "y_pred = np.argmax(y_pred, axis=1)"
      ],
      "execution_count": null,
      "outputs": [
        {
          "output_type": "stream",
          "text": [
            "157/157 [==============================] - 8s 48ms/step\n"
          ],
          "name": "stdout"
        }
      ]
    },
    {
      "cell_type": "code",
      "metadata": {
        "colab": {
          "background_save": true
        },
        "id": "5yIutEEegg_A",
        "outputId": "dfdf3797-aeeb-454d-bef8-392687717653"
      },
      "source": [
        "print(classification_report(y_test_p, y_pred))"
      ],
      "execution_count": null,
      "outputs": [
        {
          "output_type": "stream",
          "text": [
            "              precision    recall  f1-score   support\n",
            "\n",
            "           0       0.51      0.72      0.60      2817\n",
            "           1       0.88      0.85      0.87      5369\n",
            "           2       0.89      0.74      0.81     10848\n",
            "           3       0.31      0.59      0.41       966\n",
            "\n",
            "    accuracy                           0.76     20000\n",
            "   macro avg       0.65      0.73      0.67     20000\n",
            "weighted avg       0.81      0.76      0.78     20000\n",
            "\n"
          ],
          "name": "stdout"
        }
      ]
    },
    {
      "cell_type": "code",
      "metadata": {
        "colab": {
          "background_save": true
        },
        "id": "72QjwwRRrzsu"
      },
      "source": [
        "from tensorflow import keras\n",
        "keras.backend.clear_session()"
      ],
      "execution_count": null,
      "outputs": []
    },
    {
      "cell_type": "code",
      "metadata": {
        "colab": {
          "background_save": true
        },
        "id": "fy78W8BwVUYW"
      },
      "source": [
        "from sklearn import metrics"
      ],
      "execution_count": null,
      "outputs": []
    },
    {
      "cell_type": "code",
      "metadata": {
        "colab": {
          "background_save": true
        },
        "id": "4o9xT3kjyc7W"
      },
      "source": [
        "metric =metrics.accuracy_score(y_test_p, y_pred), metrics.f1_score(y_test_p, y_pred, average='macro'), metrics.recall_score(y_test_p, y_pred,average='macro'), metrics.precision_score(y_test_p, y_pred,average='macro')"
      ],
      "execution_count": null,
      "outputs": []
    },
    {
      "cell_type": "code",
      "metadata": {
        "colab": {
          "background_save": true
        },
        "id": "czSMQdvTQZs_",
        "outputId": "81a4038a-67a2-49c5-fd0c-1eec545644b8"
      },
      "source": [
        "fig = plt.figure()\n",
        "fig.set_size_inches(8,2)\n",
        "ax = fig.add_axes([0,0,1,1])\n",
        "rect1 = ax.bar(0.00,round(metric[0], 2), color = 'b', width = 0.05)\n",
        "rect2 = ax.bar(0.20, round(metric[1], 2), color = 'g', width = 0.05)\n",
        "rect3 = ax.bar(0.40, round(metric[2], 2) , color = 'r', width = 0.05)\n",
        "rect4 = ax.bar(0.60, round(metric[3], 2) , color = (1, 0, 1), width = 0.05)\n",
        "\n",
        "ax.set_ylabel('Scores')\n",
        "ax.set_title('metrics')\n",
        "def autolabel(rects):\n",
        "  \"\"\"Attach a text label above each bar in *rects*, displaying its height.\"\"\"\n",
        "  for rect in rects:\n",
        "      height = rect.get_height()\n",
        "      ax.annotate('{}'.format(height),\n",
        "                  xy=(rect.get_x() + rect.get_width() / 2, height),\n",
        "                  xytext=(0, 3),  # 3 points vertical offset\n",
        "                  textcoords=\"offset points\",\n",
        "                  ha='center', va='bottom')\n",
        "\n",
        "autolabel(rect1)\n",
        "autolabel(rect2)\n",
        "autolabel(rect3)\n",
        "autolabel(rect4)\n",
        "ax.legend(labels=['accuracy', 'f1_score', 'recall', 'precision'],loc='best')\n",
        "plt.ylim(0, 1)"
      ],
      "execution_count": null,
      "outputs": [
        {
          "output_type": "execute_result",
          "data": {
            "text/plain": [
              "(0.0, 1.0)"
            ]
          },
          "metadata": {
            "tags": []
          },
          "execution_count": 0
        },
        {
          "output_type": "display_data",
          "data": {
            "image/png": "[encoded data removed]",
            "text/plain": [
              "<Figure size 576x144 with 1 Axes>"
            ]
          },
          "metadata": {
            "tags": []
          }
        }
      ]
    },
    {
      "cell_type": "markdown",
      "metadata": {
        "id": "Bpb35nPlTI1g"
      },
      "source": [
        "### Training on Fasttext Embedding Only"
      ]
    },
    {
      "cell_type": "code",
      "metadata": {
        "colab": {
          "background_save": true
        },
        "id": "ext78JdGVwvv"
      },
      "source": [
        "keras.backend.clear_session()"
      ],
      "execution_count": null,
      "outputs": []
    },
    {
      "cell_type": "code",
      "metadata": {
        "id": "dleDGpLYU_3V"
      },
      "source": [
        "inp=Input(shape=(max_len, ))\n",
        "x=Embedding(num_words,embed_size,embeddings_initializer=Constant(fasttext),#Set Fasttext Embedding\n",
        "            input_length=max_len,trainable=False)(inp)\n",
        "x = SpatialDropout1D(0.2)(x)\n",
        "x=Bidirectional(GRU(150, return_sequences = True))(x)\n",
        "avg_pool = GlobalAveragePooling1D()(x)\n",
        "max_pool = GlobalMaxPool1D()(x)\n",
        "conc = concatenate([avg_pool, max_pool])\n",
        "\n",
        "\n",
        "x=Dropout(0.1)(conc)\n",
        "out=Dense(64, activation=\"relu\")(x)\n",
        "out=Dense(32, activation=\"relu\")(x)\n",
        "\n",
        "out=Dense(4, activation=\"softmax\")(x)\n",
        "\n",
        "model_ft=Model(inp,out)\n",
        "\n",
        "mcp_save = ModelCheckpoint('/content/sample_data/model.mdl_wts.hdf5', save_best_only=True,\n",
        "                           monitor='val_loss', mode='min',patience = 5)\n"
      ],
      "execution_count": null,
      "outputs": []
    },
    {
      "cell_type": "code",
      "metadata": {
        "id": "y8TojWn4Tijn"
      },
      "source": [
        "model_ft.compile(loss='categorical_crossentropy', optimizer='adam', metrics=[f1])"
      ],
      "execution_count": null,
      "outputs": []
    },
    {
      "cell_type": "code",
      "metadata": {
        "colab": {
          "base_uri": "https://localhost:8080/"
        },
        "id": "NhdxZk9cTm3X",
        "outputId": "dcfa178a-67ec-4ee6-8881-7b7358d755f4"
      },
      "source": [
        "model_ft.summary()"
      ],
      "execution_count": null,
      "outputs": [
        {
          "output_type": "stream",
          "text": [
            "Model: \"model\"\n",
            "__________________________________________________________________________________________________\n",
            "Layer (type)                    Output Shape         Param #     Connected to                     \n",
            "==================================================================================================\n",
            "input_1 (InputLayer)            [(None, 200)]        0                                            \n",
            "__________________________________________________________________________________________________\n",
            "embedding (Embedding)           (None, 200, 300)     1500300     input_1[0][0]                    \n",
            "__________________________________________________________________________________________________\n",
            "spatial_dropout1d (SpatialDropo (None, 200, 300)     0           embedding[0][0]                  \n",
            "__________________________________________________________________________________________________\n",
            "bidirectional (Bidirectional)   (None, 200, 300)     406800      spatial_dropout1d[0][0]          \n",
            "__________________________________________________________________________________________________\n",
            "global_average_pooling1d (Globa (None, 300)          0           bidirectional[0][0]              \n",
            "__________________________________________________________________________________________________\n",
            "global_max_pooling1d (GlobalMax (None, 300)          0           bidirectional[0][0]              \n",
            "__________________________________________________________________________________________________\n",
            "concatenate (Concatenate)       (None, 600)          0           global_average_pooling1d[0][0]   \n",
            "                                                                 global_max_pooling1d[0][0]       \n",
            "__________________________________________________________________________________________________\n",
            "dropout (Dropout)               (None, 600)          0           concatenate[0][0]                \n",
            "__________________________________________________________________________________________________\n",
            "dense_2 (Dense)                 (None, 4)            2404        dropout[0][0]                    \n",
            "==================================================================================================\n",
            "Total params: 1,909,504\n",
            "Trainable params: 409,204\n",
            "Non-trainable params: 1,500,300\n",
            "__________________________________________________________________________________________________\n"
          ],
          "name": "stdout"
        }
      ]
    },
    {
      "cell_type": "code",
      "metadata": {
        "colab": {
          "base_uri": "https://localhost:8080/"
        },
        "id": "Et2g6vcQT29F",
        "outputId": "05a0029a-095b-4173-f115-dd606e05a2bc"
      },
      "source": [
        "model_ft.fit(sequences_matrix,y_train,batch_size=128,epochs=30,verbose=1,class_weight=class_weights,\n",
        "          validation_data=(test_sequences_matrix,y_test),callbacks=[callbacks])"
      ],
      "execution_count": null,
      "outputs": [
        {
          "output_type": "stream",
          "text": [
            "Epoch 1/30\n",
            "625/625 [==============================] - 36s 55ms/step - loss: 0.8709 - f1: 0.5063 - val_loss: 0.6293 - val_f1: 0.7355\n",
            "Epoch 2/30\n",
            "625/625 [==============================] - 33s 54ms/step - loss: 0.6845 - f1: 0.7006 - val_loss: 0.6818 - val_f1: 0.7066\n",
            "Epoch 3/30\n",
            "625/625 [==============================] - 33s 54ms/step - loss: 0.6612 - f1: 0.7100 - val_loss: 0.7712 - val_f1: 0.6576\n",
            "Epoch 4/30\n",
            "625/625 [==============================] - 34s 54ms/step - loss: 0.6563 - f1: 0.7064 - val_loss: 0.6809 - val_f1: 0.7091\n",
            "Epoch 5/30\n",
            "625/625 [==============================] - 34s 54ms/step - loss: 0.6322 - f1: 0.7236 - val_loss: 0.6540 - val_f1: 0.7231\n",
            "Epoch 6/30\n",
            "625/625 [==============================] - 34s 54ms/step - loss: 0.6183 - f1: 0.7269 - val_loss: 0.7035 - val_f1: 0.6929\n",
            "Epoch 7/30\n",
            "625/625 [==============================] - 33s 54ms/step - loss: 0.6123 - f1: 0.7328 - val_loss: 0.6872 - val_f1: 0.7012\n",
            "Epoch 8/30\n",
            "625/625 [==============================] - 33s 53ms/step - loss: 0.5842 - f1: 0.7344 - val_loss: 0.5920 - val_f1: 0.7552\n",
            "Epoch 9/30\n",
            "625/625 [==============================] - 33s 54ms/step - loss: 0.5642 - f1: 0.7460 - val_loss: 0.6957 - val_f1: 0.7028\n",
            "Epoch 10/30\n",
            "625/625 [==============================] - 33s 54ms/step - loss: 0.5512 - f1: 0.7491 - val_loss: 0.6653 - val_f1: 0.7228\n",
            "Epoch 11/30\n",
            "625/625 [==============================] - 33s 54ms/step - loss: 0.5372 - f1: 0.7542 - val_loss: 0.6563 - val_f1: 0.7270\n",
            "Epoch 12/30\n",
            "625/625 [==============================] - 34s 54ms/step - loss: 0.5155 - f1: 0.7635 - val_loss: 0.6315 - val_f1: 0.7434\n",
            "Epoch 13/30\n",
            "625/625 [==============================] - 33s 53ms/step - loss: 0.5053 - f1: 0.7683 - val_loss: 0.5959 - val_f1: 0.7581\n",
            "Epoch 14/30\n",
            "625/625 [==============================] - 33s 53ms/step - loss: 0.4884 - f1: 0.7722 - val_loss: 0.6790 - val_f1: 0.7263\n",
            "Epoch 15/30\n",
            "625/625 [==============================] - 33s 53ms/step - loss: 0.4660 - f1: 0.7834 - val_loss: 0.6233 - val_f1: 0.7459\n",
            "Epoch 16/30\n",
            "625/625 [==============================] - 33s 53ms/step - loss: 0.4580 - f1: 0.7843 - val_loss: 0.7776 - val_f1: 0.6847\n",
            "Restoring model weights from the end of the best epoch.\n",
            "Epoch 00016: early stopping\n"
          ],
          "name": "stdout"
        },
        {
          "output_type": "execute_result",
          "data": {
            "text/plain": [
              "<tensorflow.python.keras.callbacks.History at 0x7f9ff008bcc0>"
            ]
          },
          "metadata": {
            "tags": []
          },
          "execution_count": 42
        }
      ]
    },
    {
      "cell_type": "code",
      "metadata": {
        "colab": {
          "base_uri": "https://localhost:8080/"
        },
        "id": "wCLLX3EAT4NO",
        "outputId": "0ce1df2c-b92a-4391-9971-a13660c53d34"
      },
      "source": [
        "print(model_ft.evaluate(test_sequences_matrix,y_test))"
      ],
      "execution_count": null,
      "outputs": [
        {
          "output_type": "stream",
          "text": [
            "625/625 [==============================] - 7s 11ms/step - loss: 0.5920 - f1: 0.7550\n",
            "[0.5920288562774658, 0.755021333694458]\n"
          ],
          "name": "stdout"
        }
      ]
    },
    {
      "cell_type": "code",
      "metadata": {
        "colab": {
          "base_uri": "https://localhost:8080/"
        },
        "id": "KE9mBrlcUiTH",
        "outputId": "fd11a703-8dfe-41c7-fe9f-370baaa69ef5"
      },
      "source": [
        "y_pred_ft = model_ft.predict(test_sequences_matrix, batch_size=128, verbose=1)\n",
        "y_pred_ft = np.argmax(y_pred_ft, axis=1)\n",
        "\n",
        "print(classification_report(y_test_p, y_pred_ft))\n"
      ],
      "execution_count": null,
      "outputs": [
        {
          "output_type": "stream",
          "text": [
            "157/157 [==============================] - 3s 21ms/step\n",
            "              precision    recall  f1-score   support\n",
            "\n",
            "           0       0.47      0.78      0.59      2817\n",
            "           1       0.89      0.85      0.87      5369\n",
            "           2       0.90      0.74      0.81     10848\n",
            "           3       0.38      0.53      0.45       966\n",
            "\n",
            "    accuracy                           0.76     20000\n",
            "   macro avg       0.66      0.72      0.68     20000\n",
            "weighted avg       0.81      0.76      0.78     20000\n",
            "\n"
          ],
          "name": "stdout"
        }
      ]
    },
    {
      "cell_type": "code",
      "metadata": {
        "id": "sXj5owf2Ut0W"
      },
      "source": [
        "metric_ft=metrics.accuracy_score(y_test_p, y_pred_ft), metrics.f1_score(y_test_p, y_pred_ft, average='macro'), metrics.recall_score(y_test_p, y_pred_ft,average='macro'), metrics.precision_score(y_test_p, y_pred_ft,average='macro')"
      ],
      "execution_count": null,
      "outputs": []
    },
    {
      "cell_type": "code",
      "metadata": {
        "colab": {
          "base_uri": "https://localhost:8080/",
          "height": 225
        },
        "id": "N49Fe5YsU7NE",
        "outputId": "2858a1f9-419a-4452-97f4-23f59e951be6"
      },
      "source": [
        "fig = plt.figure()\n",
        "fig.set_size_inches(8,2)\n",
        "ax = fig.add_axes([0,0,1,1])\n",
        "rect1 = ax.bar(0.00,round(metric_ft[0], 2), color = 'b', width = 0.05)\n",
        "rect2 = ax.bar(0.20, round(metric_ft[1], 2), color = 'g', width = 0.05)\n",
        "rect3 = ax.bar(0.40, round(metric_ft[2], 2) , color = 'r', width = 0.05)\n",
        "rect4 = ax.bar(0.60, round(metric_ft[3], 2) , color = (1, 0, 1), width = 0.05)\n",
        "\n",
        "ax.set_ylabel('Scores')\n",
        "ax.set_title('metrics')\n",
        "\n",
        "\n",
        "autolabel(rect1)\n",
        "autolabel(rect2)\n",
        "autolabel(rect3)\n",
        "autolabel(rect4)\n",
        "ax.legend(labels=['accuracy', 'f1_score', 'recall', 'precision'],loc='best')\n",
        "plt.ylim(0, 1)"
      ],
      "execution_count": null,
      "outputs": [
        {
          "output_type": "execute_result",
          "data": {
            "text/plain": [
              "(0.0, 1.0)"
            ]
          },
          "metadata": {
            "tags": []
          },
          "execution_count": 47
        },
        {
          "output_type": "display_data",
          "data": {
            "image/png": "[encoded data removed]",
            "text/plain": [
              "<Figure size 576x144 with 1 Axes>"
            ]
          },
          "metadata": {
            "tags": []
          }
        }
      ]
    },
    {
      "cell_type": "markdown",
      "metadata": {
        "id": "3Ca2_sYRVNIB"
      },
      "source": [
        "### Training on Glove Embedding"
      ]
    },
    {
      "cell_type": "code",
      "metadata": {
        "id": "kNgL6uROVtIh"
      },
      "source": [
        "keras.backend.clear_session()"
      ],
      "execution_count": null,
      "outputs": []
    },
    {
      "cell_type": "code",
      "metadata": {
        "id": "RppMYT6GVIsO"
      },
      "source": [
        "inp=Input(shape=(max_len, ))\n",
        "x=Embedding(num_words,embed_size,embeddings_initializer=Constant(glove_emb),#Set GloVe Embedding\n",
        "            input_length=max_len,trainable=False)(inp)\n",
        "x = SpatialDropout1D(0.2)(x)\n",
        "x=Bidirectional(GRU(150, return_sequences = True))(x)\n",
        "avg_pool = GlobalAveragePooling1D()(x)\n",
        "max_pool = GlobalMaxPool1D()(x)\n",
        "conc = concatenate([avg_pool, max_pool])\n",
        "\n",
        "\n",
        "x=Dropout(0.1)(conc)\n",
        "out=Dense(64, activation=\"relu\")(x)\n",
        "out=Dense(32, activation=\"relu\")(x)\n",
        "\n",
        "out=Dense(4, activation=\"softmax\")(x)\n",
        "\n",
        "model_gl=Model(inp,out)\n",
        "\n",
        "mcp_save = ModelCheckpoint('/content/sample_data/model.mdl_wts.hdf5', save_best_only=True,\n",
        "                           monitor='val_loss', mode='min',patience = 5)\n"
      ],
      "execution_count": null,
      "outputs": []
    },
    {
      "cell_type": "code",
      "metadata": {
        "id": "nkOqskReVic8"
      },
      "source": [
        "model_gl.compile(loss='categorical_crossentropy', optimizer='adam', metrics=[f1])"
      ],
      "execution_count": null,
      "outputs": []
    },
    {
      "cell_type": "code",
      "metadata": {
        "colab": {
          "base_uri": "https://localhost:8080/"
        },
        "id": "v61mGNskVmHU",
        "outputId": "0990e026-1ee5-4ac4-bdfe-8014a9a34288"
      },
      "source": [
        "model_gl.summary()"
      ],
      "execution_count": null,
      "outputs": [
        {
          "output_type": "stream",
          "text": [
            "Model: \"model_1\"\n",
            "__________________________________________________________________________________________________\n",
            "Layer (type)                    Output Shape         Param #     Connected to                     \n",
            "==================================================================================================\n",
            "input_2 (InputLayer)            [(None, 200)]        0                                            \n",
            "__________________________________________________________________________________________________\n",
            "embedding_1 (Embedding)         (None, 200, 300)     1500300     input_2[0][0]                    \n",
            "__________________________________________________________________________________________________\n",
            "spatial_dropout1d_1 (SpatialDro (None, 200, 300)     0           embedding_1[0][0]                \n",
            "__________________________________________________________________________________________________\n",
            "bidirectional_1 (Bidirectional) (None, 200, 300)     406800      spatial_dropout1d_1[0][0]        \n",
            "__________________________________________________________________________________________________\n",
            "global_average_pooling1d_1 (Glo (None, 300)          0           bidirectional_1[0][0]            \n",
            "__________________________________________________________________________________________________\n",
            "global_max_pooling1d_1 (GlobalM (None, 300)          0           bidirectional_1[0][0]            \n",
            "__________________________________________________________________________________________________\n",
            "concatenate_1 (Concatenate)     (None, 600)          0           global_average_pooling1d_1[0][0] \n",
            "                                                                 global_max_pooling1d_1[0][0]     \n",
            "__________________________________________________________________________________________________\n",
            "dropout_1 (Dropout)             (None, 600)          0           concatenate_1[0][0]              \n",
            "__________________________________________________________________________________________________\n",
            "dense_5 (Dense)                 (None, 4)            2404        dropout_1[0][0]                  \n",
            "==================================================================================================\n",
            "Total params: 1,909,504\n",
            "Trainable params: 409,204\n",
            "Non-trainable params: 1,500,300\n",
            "__________________________________________________________________________________________________\n"
          ],
          "name": "stdout"
        }
      ]
    },
    {
      "cell_type": "code",
      "metadata": {
        "colab": {
          "base_uri": "https://localhost:8080/"
        },
        "id": "5BW4PR-AVnAD",
        "outputId": "cf20a4c8-0c9c-4086-84e4-296916b858e2"
      },
      "source": [
        "model_gl.fit(sequences_matrix,y_train,batch_size=128,epochs=30,verbose=1,class_weight=class_weights,\n",
        "          validation_data=(test_sequences_matrix,y_test),callbacks=[callbacks])"
      ],
      "execution_count": null,
      "outputs": [
        {
          "output_type": "stream",
          "text": [
            "Epoch 1/30\n",
            "625/625 [==============================] - 34s 53ms/step - loss: 0.8036 - f1: 0.5669 - val_loss: 0.7218 - val_f1: 0.6729\n",
            "Epoch 2/30\n",
            "625/625 [==============================] - 34s 54ms/step - loss: 0.6734 - f1: 0.7022 - val_loss: 0.6384 - val_f1: 0.7285\n",
            "Epoch 3/30\n",
            "625/625 [==============================] - 33s 53ms/step - loss: 0.6411 - f1: 0.7154 - val_loss: 0.6833 - val_f1: 0.7062\n",
            "Epoch 4/30\n",
            "625/625 [==============================] - 33s 53ms/step - loss: 0.6275 - f1: 0.7204 - val_loss: 0.6842 - val_f1: 0.7039\n",
            "Epoch 5/30\n",
            "625/625 [==============================] - 33s 53ms/step - loss: 0.6091 - f1: 0.7257 - val_loss: 0.7083 - val_f1: 0.6861\n",
            "Epoch 6/30\n",
            "625/625 [==============================] - 33s 53ms/step - loss: 0.5979 - f1: 0.7250 - val_loss: 0.6036 - val_f1: 0.7472\n",
            "Epoch 7/30\n",
            "625/625 [==============================] - 33s 53ms/step - loss: 0.5759 - f1: 0.7411 - val_loss: 0.6289 - val_f1: 0.7365\n",
            "Epoch 8/30\n",
            "625/625 [==============================] - 33s 53ms/step - loss: 0.5554 - f1: 0.7472 - val_loss: 0.7137 - val_f1: 0.6940\n",
            "Epoch 9/30\n",
            "625/625 [==============================] - 33s 53ms/step - loss: 0.5321 - f1: 0.7528 - val_loss: 0.6412 - val_f1: 0.7344\n",
            "Epoch 10/30\n",
            "625/625 [==============================] - 33s 53ms/step - loss: 0.5068 - f1: 0.7664 - val_loss: 0.6745 - val_f1: 0.7236\n",
            "Epoch 11/30\n",
            "625/625 [==============================] - 33s 53ms/step - loss: 0.4980 - f1: 0.7703 - val_loss: 0.6830 - val_f1: 0.7262\n",
            "Epoch 12/30\n",
            "625/625 [==============================] - 33s 53ms/step - loss: 0.4737 - f1: 0.7776 - val_loss: 0.6851 - val_f1: 0.7271\n",
            "Epoch 13/30\n",
            "625/625 [==============================] - 33s 53ms/step - loss: 0.4591 - f1: 0.7822 - val_loss: 0.6379 - val_f1: 0.7448\n",
            "Epoch 14/30\n",
            "625/625 [==============================] - 33s 53ms/step - loss: 0.4448 - f1: 0.7875 - val_loss: 0.7709 - val_f1: 0.6893\n",
            "Restoring model weights from the end of the best epoch.\n",
            "Epoch 00014: early stopping\n"
          ],
          "name": "stdout"
        },
        {
          "output_type": "execute_result",
          "data": {
            "text/plain": [
              "<tensorflow.python.keras.callbacks.History at 0x7f9f961b5278>"
            ]
          },
          "metadata": {
            "tags": []
          },
          "execution_count": 61
        }
      ]
    },
    {
      "cell_type": "code",
      "metadata": {
        "colab": {
          "base_uri": "https://localhost:8080/"
        },
        "id": "OwEg6S7rV06z",
        "outputId": "32d63eba-e062-4feb-b097-14ef9a511103"
      },
      "source": [
        "print(model_gl.evaluate(test_sequences_matrix,y_test))"
      ],
      "execution_count": null,
      "outputs": [
        {
          "output_type": "stream",
          "text": [
            "625/625 [==============================] - 7s 10ms/step - loss: 0.6036 - f1: 0.7469\n",
            "[0.6036179661750793, 0.7469402551651001]\n"
          ],
          "name": "stdout"
        }
      ]
    },
    {
      "cell_type": "code",
      "metadata": {
        "colab": {
          "base_uri": "https://localhost:8080/"
        },
        "id": "baqGd0B1V5p0",
        "outputId": "f3331f4e-80b5-4c8b-b457-7063f42d9e12"
      },
      "source": [
        "y_pred_gl = model_gl.predict(test_sequences_matrix, batch_size=128, verbose=1)\n",
        "y_pred_gl = np.argmax(y_pred_gl, axis=1)\n",
        "y_pred_gl = (y_pred_gl > 0.5)\n",
        "\n",
        "print(classification_report(y_test_p, y_pred_gl))\n"
      ],
      "execution_count": null,
      "outputs": [
        {
          "output_type": "stream",
          "text": [
            "157/157 [==============================] - 3s 21ms/step\n",
            "              precision    recall  f1-score   support\n",
            "\n",
            "           0       0.45      0.80      0.58      2817\n",
            "           1       0.35      0.98      0.51      5369\n",
            "           2       0.00      0.00      0.00     10848\n",
            "           3       0.00      0.00      0.00       966\n",
            "\n",
            "    accuracy                           0.37     20000\n",
            "   macro avg       0.20      0.44      0.27     20000\n",
            "weighted avg       0.16      0.37      0.22     20000\n",
            "\n"
          ],
          "name": "stdout"
        },
        {
          "output_type": "stream",
          "text": [
            "/usr/local/lib/python3.6/dist-packages/sklearn/metrics/_classification.py:1272: UndefinedMetricWarning: Precision and F-score are ill-defined and being set to 0.0 in labels with no predicted samples. Use `zero_division` parameter to control this behavior.\n",
            "  _warn_prf(average, modifier, msg_start, len(result))\n"
          ],
          "name": "stderr"
        }
      ]
    },
    {
      "cell_type": "code",
      "metadata": {
        "colab": {
          "base_uri": "https://localhost:8080/"
        },
        "id": "u9oqC1r-WBT-",
        "outputId": "fda43ed6-9b2f-476d-8707-b9b669ab044b"
      },
      "source": [
        "metric_gl =metrics.accuracy_score(y_test_p, y_pred_gl), metrics.f1_score(y_test_p, y_pred_gl, average='macro'), metrics.recall_score(y_test_p, y_pred_gl, average='macro'), metrics.precision_score(y_test_p, y_pred_gl, average='macro')"
      ],
      "execution_count": null,
      "outputs": [
        {
          "output_type": "stream",
          "text": [
            "/usr/local/lib/python3.6/dist-packages/sklearn/metrics/_classification.py:1272: UndefinedMetricWarning: Precision is ill-defined and being set to 0.0 in labels with no predicted samples. Use `zero_division` parameter to control this behavior.\n",
            "  _warn_prf(average, modifier, msg_start, len(result))\n"
          ],
          "name": "stderr"
        }
      ]
    },
    {
      "cell_type": "code",
      "metadata": {
        "colab": {
          "base_uri": "https://localhost:8080/",
          "height": 225
        },
        "id": "aej9KlRxWJ1c",
        "outputId": "3ff1b65a-3720-4e52-a24e-784a7a6395ca"
      },
      "source": [
        "fig = plt.figure()\n",
        "fig.set_size_inches(8,2)\n",
        "ax = fig.add_axes([0,0,1,1])\n",
        "rect1 = ax.bar(0.00,round(metric_gl[0], 2), color = 'b', width = 0.05)\n",
        "rect2 = ax.bar(0.20, round(metric_gl[1], 2), color = 'g', width = 0.05)\n",
        "rect3 = ax.bar(0.40, round(metric_gl[2], 2) , color = 'r', width = 0.05)\n",
        "rect4 = ax.bar(0.60, round(metric_gl[3], 2) , color = (1, 0, 1), width = 0.05)\n",
        "\n",
        "ax.set_ylabel('Scores')\n",
        "ax.set_title('metrics')\n",
        "\n",
        "autolabel(rect1)\n",
        "autolabel(rect2)\n",
        "autolabel(rect3)\n",
        "autolabel(rect4)\n",
        "ax.legend(labels=['accuracy', 'f1_score', 'recall', 'precision'],loc='best')\n",
        "plt.ylim(0, 1)"
      ],
      "execution_count": null,
      "outputs": [
        {
          "output_type": "execute_result",
          "data": {
            "text/plain": [
              "(0.0, 1.0)"
            ]
          },
          "metadata": {
            "tags": []
          },
          "execution_count": 69
        },
        {
          "output_type": "display_data",
          "data": {
            "image/png": "[encoded data removed]",
            "text/plain": [
              "<Figure size 576x144 with 1 Axes>"
            ]
          },
          "metadata": {
            "tags": []
          }
        }
      ]
    },
    {
      "cell_type": "markdown",
      "metadata": {
        "id": "l6ud_gVNWd4a"
      },
      "source": [
        "### Comparing the three results"
      ]
    },
    {
      "cell_type": "code",
      "metadata": {
        "id": "UAPfKBxEYLV5"
      },
      "source": [
        "Data = [('Fasttext',) + metric_ft  ,\n",
        "        ('GloVe',)+ metric_gl ,\n",
        "         ('Fasttext + GloVe',)+ metric ]"
      ],
      "execution_count": null,
      "outputs": []
    },
    {
      "cell_type": "code",
      "metadata": {
        "id": "d6UM1nPKWkH6"
      },
      "source": [
        "Results = pd.DataFrame(data =  Data , columns=['Embedding','Accuracy','F1_score','Recall','Precision'])"
      ],
      "execution_count": null,
      "outputs": []
    },
    {
      "cell_type": "code",
      "metadata": {
        "colab": {
          "base_uri": "https://localhost:8080/",
          "height": 138
        },
        "id": "lDLH9XzeXAUp",
        "outputId": "b4b51a6b-4934-4980-f24c-f2351f9c863a"
      },
      "source": [
        "Results"
      ],
      "execution_count": null,
      "outputs": [
        {
          "output_type": "execute_result",
          "data": {
            "text/html": [
              "<div>\n",
              "<style scoped>\n",
              "    .dataframe tbody tr th:only-of-type {\n",
              "        vertical-align: middle;\n",
              "    }\n",
              "\n",
              "    .dataframe tbody tr th {\n",
              "        vertical-align: top;\n",
              "    }\n",
              "\n",
              "    .dataframe thead th {\n",
              "        text-align: right;\n",
              "    }\n",
              "</style>\n",
              "<table border=\"1\" class=\"dataframe\">\n",
              "  <thead>\n",
              "    <tr style=\"text-align: right;\">\n",
              "      <th></th>\n",
              "      <th>Embedding</th>\n",
              "      <th>Accuracy</th>\n",
              "      <th>F1_score</th>\n",
              "      <th>Recall</th>\n",
              "      <th>Precision</th>\n",
              "    </tr>\n",
              "  </thead>\n",
              "  <tbody>\n",
              "    <tr>\n",
              "      <th>0</th>\n",
              "      <td>Fasttext</td>\n",
              "      <td>0.76185</td>\n",
              "      <td>0.677040</td>\n",
              "      <td>0.723482</td>\n",
              "      <td>0.659887</td>\n",
              "    </tr>\n",
              "    <tr>\n",
              "      <th>1</th>\n",
              "      <td>GloVe</td>\n",
              "      <td>0.37470</td>\n",
              "      <td>0.273241</td>\n",
              "      <td>0.444240</td>\n",
              "      <td>0.200537</td>\n",
              "    </tr>\n",
              "    <tr>\n",
              "      <th>2</th>\n",
              "      <td>Fasttext + GloVe</td>\n",
              "      <td>0.76785</td>\n",
              "      <td>0.674281</td>\n",
              "      <td>0.717792</td>\n",
              "      <td>0.653248</td>\n",
              "    </tr>\n",
              "  </tbody>\n",
              "</table>\n",
              "</div>"
            ],
            "text/plain": [
              "          Embedding  Accuracy  F1_score    Recall  Precision\n",
              "0          Fasttext   0.76185  0.677040  0.723482   0.659887\n",
              "1             GloVe   0.37470  0.273241  0.444240   0.200537\n",
              "2  Fasttext + GloVe   0.76785  0.674281  0.717792   0.653248"
            ]
          },
          "metadata": {
            "tags": []
          },
          "execution_count": 72
        }
      ]
    },
    {
      "cell_type": "code",
      "metadata": {
        "id": "Vj0FGvd5zqaj"
      },
      "source": [
        ""
      ],
      "execution_count": null,
      "outputs": []
    }
  ]
}